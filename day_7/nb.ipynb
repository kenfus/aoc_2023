{
 "cells": [
  {
   "cell_type": "code",
   "execution_count": 21,
   "metadata": {},
   "outputs": [],
   "source": [
    "with open('input.txt') as f:\n",
    "    input_txt = f.readlines()"
   ]
  },
  {
   "cell_type": "code",
   "execution_count": 22,
   "metadata": {},
   "outputs": [],
   "source": [
    "cards = {}\n",
    "cards['hand'] = []\n",
    "cards['score'] = []\n",
    "for line in input_txt:\n",
    "    split_ = line.strip().split(' ')\n",
    "    cards['hand'].append(split_[0])\n",
    "    cards['score'].append(int(split_[1]))"
   ]
  },
  {
   "cell_type": "code",
   "execution_count": 23,
   "metadata": {},
   "outputs": [],
   "source": [
    "# A, K, Q, J, T, 9, 8, 7, 6, 5, 4, 3, or 2. "
   ]
  },
  {
   "cell_type": "code",
   "execution_count": 24,
   "metadata": {},
   "outputs": [],
   "source": [
    "cards_score = {'2': 1, '3': 2, '4': 3, '5': 4, '6': 5, '7': 6, '8': 7, '9': 8, 'T' : 9, 'J': 10, 'Q': 11, 'K': 12, 'A': 13}\n",
    "\n",
    "def preprocess_hand(hand):\n",
    "    char_n = {}\n",
    "    for char in set(hand):\n",
    "        char_n[char] = hand.count(char)\n",
    "    return char_n\n",
    "def get_value_of_hand(hand):\n",
    "    base_score = 10**6\n",
    "    score = 0\n",
    "    char_n = preprocess_hand(hand)\n",
    "    if len(set(hand)) == 1:  # Flush or Straight Flush\n",
    "        score = base_score * 7\n",
    "    elif 4 in char_n.values():  # Four of a Kind\n",
    "        score = base_score * 6\n",
    "    elif 3 in char_n.values() and 2 in char_n.values():  # Full House\n",
    "        score = base_score * 5\n",
    "    elif 3 in char_n.values():  # Three of a Kind\n",
    "        score = base_score * 4\n",
    "    elif len([v for v in char_n.values() if v == 2]) == 2:  # Two Pair\n",
    "        score = base_score * 3\n",
    "    elif 2 in char_n.values():  # One Pair\n",
    "        score = base_score * 2\n",
    "    else:  # High Card\n",
    "        score = base_score\n",
    "\n",
    "     # Add card-specific score\n",
    "    card_score = calculate_card_score(hand, cards_score)\n",
    "    return score + card_score\n",
    "    \n",
    "def calculate_card_score(hand, card_values):\n",
    "    # Initialize the card score\n",
    "    card_score = 0\n",
    "\n",
    "    # Iterate over the hand in its original order\n",
    "    for i, card in enumerate(hand):\n",
    "        # Calculate the weight for the current position (base 13)\n",
    "        position_weight = 13 ** (len(hand) - i - 1)\n",
    "\n",
    "        # Calculate the score for this card and add it to the total score\n",
    "        card_score += card_values[card] * position_weight\n",
    "\n",
    "    return card_score"
   ]
  },
  {
   "cell_type": "code",
   "execution_count": 25,
   "metadata": {},
   "outputs": [],
   "source": [
    "cards['hand_value'] = []\n",
    "for hand in cards['hand']:\n",
    "    cards['hand_value'].append(get_value_of_hand(hand))"
   ]
  },
  {
   "cell_type": "code",
   "execution_count": 26,
   "metadata": {},
   "outputs": [],
   "source": [
    "# First, we zip the hands with their values and sort by the value\n",
    "sorted_hands = sorted(zip(cards['hand'], cards['hand_value']), key=lambda x: x[1], reverse=False)\n",
    "\n",
    "# Then, we add the rank to each hand\n",
    "ranked_hands = [(hand, value, rank + 1) for rank, (hand, value) in enumerate(sorted_hands)]"
   ]
  },
  {
   "cell_type": "code",
   "execution_count": 27,
   "metadata": {},
   "outputs": [
    {
     "data": {
      "text/plain": [
       "248179786"
      ]
     },
     "execution_count": 27,
     "metadata": {},
     "output_type": "execute_result"
    }
   ],
   "source": [
    "# Now, we need to multiply the rank with the score\n",
    "# We already have the ranked hands, so we just need to map these ranks back to the original hands and scores\n",
    "\n",
    "# Create a dictionary to map hand to its rank\n",
    "hand_to_rank = {hand: rank for hand, value, rank in ranked_hands}\n",
    "\n",
    "# Multiply each score by the corresponding rank\n",
    "multiplied_scores = [score * hand_to_rank[hand] for hand, score in zip(cards['hand'], cards['score'])]\n",
    "\n",
    "sum(multiplied_scores)"
   ]
  }
 ],
 "metadata": {
  "kernelspec": {
   "display_name": "aoc_2023",
   "language": "python",
   "name": "python3"
  },
  "language_info": {
   "codemirror_mode": {
    "name": "ipython",
    "version": 3
   },
   "file_extension": ".py",
   "mimetype": "text/x-python",
   "name": "python",
   "nbconvert_exporter": "python",
   "pygments_lexer": "ipython3",
   "version": "3.11.0"
  }
 },
 "nbformat": 4,
 "nbformat_minor": 2
}
