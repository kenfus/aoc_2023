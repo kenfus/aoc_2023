{
 "cells": [
  {
   "cell_type": "code",
   "execution_count": 156,
   "metadata": {},
   "outputs": [],
   "source": [
    "with open('input.txt') as f:\n",
    "    input_txt = f.readlines()"
   ]
  },
  {
   "cell_type": "code",
   "execution_count": 157,
   "metadata": {},
   "outputs": [],
   "source": [
    "cards = {}\n",
    "cards['hand'] = []\n",
    "cards['score'] = []\n",
    "for line in input_txt:\n",
    "    split_ = line.strip().split(' ')\n",
    "    cards['hand'].append(split_[0])\n",
    "    cards['score'].append(int(split_[1]))"
   ]
  },
  {
   "cell_type": "code",
   "execution_count": 158,
   "metadata": {},
   "outputs": [],
   "source": [
    "# A, K, Q, J, T, 9, 8, 7, 6, 5, 4, 3, or 2. "
   ]
  },
  {
   "cell_type": "code",
   "execution_count": 159,
   "metadata": {},
   "outputs": [
    {
     "data": {
      "text/plain": [
       "dict_keys(['J', '2', '3', '4', '5', '6', '7', '8', '9', 'T', 'Q', 'K', 'A'])"
      ]
     },
     "execution_count": 159,
     "metadata": {},
     "output_type": "execute_result"
    }
   ],
   "source": [
    "cards_score.keys()"
   ]
  },
  {
   "cell_type": "code",
   "execution_count": 160,
   "metadata": {},
   "outputs": [],
   "source": [
    "\n",
    "# Example usage\n",
    "s = \"JJ2J3\"\n",
    "Js_positions = [i for i, char in enumerate(s) if char == 'J']\n",
    "test = highest_value_with_joker(s, s, Js_positions, 0, get_value_of_hand)\n",
    "\n",
    "# Process the test results as needed"
   ]
  },
  {
   "cell_type": "code",
   "execution_count": 161,
   "metadata": {},
   "outputs": [],
   "source": [
    "cards_score = {'J': 1, '2': 2, '3': 3, '4': 4, '5': 5, '6': 6, '7': 7, '8': 8, '9': 9, 'T' : 10,'Q': 11, 'K': 12, 'A': 13}\n",
    "\n",
    "def highest_value_with_joker(hand, original_hand, Js_positions, index, process_function):\n",
    "    if index >= len(Js_positions):\n",
    "        return [process_function(hand, original_hand)]\n",
    "\n",
    "    # Position of current 'J'\n",
    "    pos = Js_positions[index]\n",
    "\n",
    "    # Store all hand values\n",
    "    all_hand_values = []\n",
    "\n",
    "    # Replace 'J' with each possible character and recurse\n",
    "    for replacement in cards_score.keys():\n",
    "        new_hand = hand[:pos] + replacement + hand[pos + 1:]\n",
    "        all_hand_values.extend(highest_value_with_joker(new_hand, original_hand, Js_positions, index + 1, process_function))\n",
    "\n",
    "    return all_hand_values\n",
    "\n",
    "def preprocess_hand(hand):\n",
    "    char_n = {}\n",
    "    for char in set(hand):\n",
    "        char_n[char] = hand.count(char)\n",
    "    return char_n\n",
    "    \n",
    "def get_value_of_hand(hand, original_hand):\n",
    "    base_score = 10**6\n",
    "    score = 0\n",
    "    char_n = preprocess_hand(hand)\n",
    "    if len(set(hand)) == 1:  # Flush or Straight Flush\n",
    "        score = base_score * 7\n",
    "    elif 4 in char_n.values():  # Four of a Kind\n",
    "        score = base_score * 6\n",
    "    elif 3 in char_n.values() and 2 in char_n.values():  # Full House\n",
    "        score = base_score * 5\n",
    "    elif 3 in char_n.values():  # Three of a Kind\n",
    "        score = base_score * 4\n",
    "    elif len([v for v in char_n.values() if v == 2]) == 2:  # Two Pair\n",
    "        score = base_score * 3\n",
    "    elif 2 in char_n.values():  # One Pair\n",
    "        score = base_score * 2\n",
    "    else:  # High Card\n",
    "        score = base_score\n",
    "\n",
    "     # Add card-specific score\n",
    "    card_score = calculate_card_score(original_hand, cards_score)\n",
    "    return score + card_score\n",
    "    \n",
    "def calculate_card_score(hand, card_values):\n",
    "    # Initialize the card score\n",
    "    card_score = 0\n",
    "\n",
    "    # Iterate over the hand in its original order\n",
    "    for i, card in enumerate(hand):\n",
    "        # Calculate the weight for the current position (base 13)\n",
    "        position_weight = 13 ** (len(hand) - i - 1)\n",
    "\n",
    "        # Calculate the score for this card and add it to the total score\n",
    "        card_score += card_values[card] * position_weight\n",
    "\n",
    "    return card_score"
   ]
  },
  {
   "cell_type": "code",
   "execution_count": 162,
   "metadata": {},
   "outputs": [],
   "source": [
    "cards['hand_value'] = []\n",
    "for hand in cards['hand']:\n",
    "    Js_positions = [i for i, char in enumerate(hand) if char == 'J']\n",
    "    hand_value = max(highest_value_with_joker(hand, hand, Js_positions, 0, get_value_of_hand))\n",
    "    cards['hand_value'].append(hand_value)"
   ]
  },
  {
   "cell_type": "code",
   "execution_count": 163,
   "metadata": {},
   "outputs": [],
   "source": [
    "# First, we zip the hands with their values and sort by the value\n",
    "sorted_hands = sorted(zip(cards['hand'], cards['hand_value']), key=lambda x: x[1], reverse=False)\n",
    "\n",
    "# Then, we add the rank to each hand\n",
    "ranked_hands = [(hand, value, rank + 1) for rank, (hand, value) in enumerate(sorted_hands)]"
   ]
  },
  {
   "cell_type": "code",
   "execution_count": null,
   "metadata": {},
   "outputs": [],
   "source": [
    "ranked_hands"
   ]
  },
  {
   "cell_type": "code",
   "execution_count": 165,
   "metadata": {},
   "outputs": [
    {
     "data": {
      "text/plain": [
       "247885995"
      ]
     },
     "execution_count": 165,
     "metadata": {},
     "output_type": "execute_result"
    }
   ],
   "source": [
    "# Now, we need to multiply the rank with the score\n",
    "# We already have the ranked hands, so we just need to map these ranks back to the original hands and scores\n",
    "\n",
    "# Create a dictionary to map hand to its rank\n",
    "hand_to_rank = {hand: rank for hand, value, rank in ranked_hands}\n",
    "\n",
    "# Multiply each score by the corresponding rank\n",
    "multiplied_scores = [score * hand_to_rank[hand] for hand, score in zip(cards['hand'], cards['score'])]\n",
    "\n",
    "sum(multiplied_scores)"
   ]
  }
 ],
 "metadata": {
  "kernelspec": {
   "display_name": "aoc_2023",
   "language": "python",
   "name": "python3"
  },
  "language_info": {
   "codemirror_mode": {
    "name": "ipython",
    "version": 3
   },
   "file_extension": ".py",
   "mimetype": "text/x-python",
   "name": "python",
   "nbconvert_exporter": "python",
   "pygments_lexer": "ipython3",
   "version": "3.11.0"
  }
 },
 "nbformat": 4,
 "nbformat_minor": 2
}
