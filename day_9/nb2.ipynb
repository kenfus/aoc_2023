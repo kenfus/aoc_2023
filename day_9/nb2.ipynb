{
 "cells": [
  {
   "cell_type": "code",
   "execution_count": 32,
   "metadata": {},
   "outputs": [],
   "source": [
    "with open('input.txt') as f:\n",
    "    lines = f.readlines()"
   ]
  },
  {
   "cell_type": "code",
   "execution_count": 34,
   "metadata": {},
   "outputs": [],
   "source": [
    "histories = [x.strip().split(' ') for x in lines]\n",
    "histories = [[int(x) for x in y] for y in histories]"
   ]
  },
  {
   "cell_type": "code",
   "execution_count": 35,
   "metadata": {},
   "outputs": [],
   "source": [
    "def dif_of_values_in_list(L):\n",
    "    return [y - x for x,y in zip(L,L[1:])]"
   ]
  },
  {
   "cell_type": "code",
   "execution_count": 36,
   "metadata": {},
   "outputs": [
    {
     "data": {
      "text/plain": [
       "1124"
      ]
     },
     "execution_count": 36,
     "metadata": {},
     "output_type": "execute_result"
    }
   ],
   "source": [
    "sum_pred = 0\n",
    "for history in histories:\n",
    "    extrapolation = [history.copy()]\n",
    "    while not all(value == 0 for value in extrapolation[-1]):\n",
    "        extrapolation.append(dif_of_values_in_list(extrapolation[-1]))\n",
    "    for i in range(len(extrapolation)-1, 0, -1):\n",
    "        extrapolation[i-1].insert(0, extrapolation[i-1][0] - extrapolation[i][0])\n",
    "    sum_pred += extrapolation[0][0]\n",
    "\n",
    "sum_pred"
   ]
  }
 ],
 "metadata": {
  "kernelspec": {
   "display_name": "aoc_2023",
   "language": "python",
   "name": "python3"
  },
  "language_info": {
   "codemirror_mode": {
    "name": "ipython",
    "version": 3
   },
   "file_extension": ".py",
   "mimetype": "text/x-python",
   "name": "python",
   "nbconvert_exporter": "python",
   "pygments_lexer": "ipython3",
   "version": "3.11.0"
  }
 },
 "nbformat": 4,
 "nbformat_minor": 2
}
