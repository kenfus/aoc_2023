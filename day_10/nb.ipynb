{
 "cells": [
  {
   "cell_type": "code",
   "execution_count": 1,
   "metadata": {},
   "outputs": [],
   "source": [
    "with open('input.txt') as f:\n",
    "    lines = f.readlines()"
   ]
  },
  {
   "cell_type": "code",
   "execution_count": 2,
   "metadata": {},
   "outputs": [],
   "source": [
    "graph_list = []\n",
    "starting_point = None\n",
    "for i, line in enumerate(lines):\n",
    "    row = line.strip()\n",
    "    row = [c for c in row]\n",
    "    graph_list.append(row)\n"
   ]
  },
  {
   "cell_type": "markdown",
   "metadata": {},
   "source": [
    "| is a vertical pipe connecting north and south.\n",
    "- is a horizontal pipe connecting east and west.\n",
    "L is a 90-degree bend connecting north and east.\n",
    "J is a 90-degree bend connecting north and west.\n",
    "7 is a 90-degree bend connecting south and west.\n",
    "F is a 90-degree bend connecting south and east.\n",
    ". is ground; there is no pipe in this tile.\n",
    "S is the starting position of the animal; there is a pipe on this tile, but your sketch doesn't show what shape the pipe has."
   ]
  },
  {
   "cell_type": "code",
   "execution_count": 3,
   "metadata": {},
   "outputs": [],
   "source": [
    "import networkx as nx\n",
    "\n",
    "def create_square_graph(N, M, edges):\n",
    "    \"\"\"\n",
    "    Create a square graph with NxM nodes and specified edges.\n",
    "\n",
    "    Parameters:\n",
    "    N (int): Number of rows\n",
    "    M (int): Number of columns\n",
    "    edges (list of tuples): List of edges where each edge is a tuple (node1, node2)\n",
    "\n",
    "    Returns:\n",
    "    G (networkx.Graph): The created graph\n",
    "    \"\"\"\n",
    "    G = nx.DiGraph()\n",
    "    # Add nodes\n",
    "    for i in range(N):\n",
    "        for j in range(M):\n",
    "            G.add_node((i, j))\n",
    "\n",
    "    # Add edges\n",
    "    for edge in edges:\n",
    "        G.add_edge(*edge, weight=1)\n",
    "\n",
    "\n",
    "    return G\n",
    "\n",
    "def create_list_of_edges(graph_list):\n",
    "    edges = []\n",
    "    starting_point = None\n",
    "    for i in range(len(graph_list)):\n",
    "        for j in range(len(graph_list[0])):\n",
    "            if graph_list[i][j] == '|':\n",
    "                edges.append(((i,j),(i-1,j)))\n",
    "                edges.append(((i,j),(i+1,j)))\n",
    "\n",
    "            elif graph_list[i][j] == '-':\n",
    "                edges.append(((i,j),(i,j-1)))\n",
    "                edges.append(((i,j),(i,j+1)))\n",
    "\n",
    "            elif graph_list[i][j] == 'L':\n",
    "                edges.append(((i,j),(i-1,j)))\n",
    "                edges.append(((i,j),(i,j+1)))\n",
    "\n",
    "            elif graph_list[i][j] == 'J':\n",
    "                edges.append(((i,j),(i-1,j)))\n",
    "                edges.append(((i,j),(i,j-1)))\n",
    "\n",
    "            elif graph_list[i][j] == '7':\n",
    "                edges.append(((i,j),(i+1,j)))\n",
    "                edges.append(((i,j),(i,j-1)))\n",
    "\n",
    "            elif graph_list[i][j] == 'F':\n",
    "                edges.append(((i,j),(i+1,j)))\n",
    "                edges.append(((i,j),(i,j+1)))\n",
    "\n",
    "            elif graph_list[i][j] == 'S':\n",
    "                starting_point = (i,j)\n",
    "\n",
    "    # Add edges for the starting point\n",
    "    edges_sp = []\n",
    "    for edge in edges:\n",
    "        if edge[1] == starting_point:\n",
    "            edges_sp.append((starting_point, edge[0]))\n",
    "\n",
    "    edges.extend(edges_sp)\n",
    "        \n",
    "\n",
    "    return edges, starting_point"
   ]
  },
  {
   "cell_type": "code",
   "execution_count": null,
   "metadata": {},
   "outputs": [],
   "source": [
    "edges, start_node = create_list_of_edges(graph_list)"
   ]
  },
  {
   "cell_type": "code",
   "execution_count": 5,
   "metadata": {},
   "outputs": [],
   "source": [
    "G = create_square_graph(len(graph_list), len(graph_list[0]), edges)"
   ]
  },
  {
   "cell_type": "code",
   "execution_count": 7,
   "metadata": {},
   "outputs": [
    {
     "name": "stdout",
     "output_type": "stream",
     "text": [
      "(127, 88)\n",
      "(129, 88)\n"
     ]
    }
   ],
   "source": [
    "for node in G.neighbors(start_node):\n",
    "    print(node)"
   ]
  },
  {
   "cell_type": "code",
   "execution_count": 11,
   "metadata": {},
   "outputs": [],
   "source": [
    "length = 0\n",
    "for node in G.neighbors(start_node):\n",
    "    for path in nx.all_simple_paths(G, start_node, node):\n",
    "        if len(path) > length:\n",
    "            length = len(path)\n",
    "            longest_path = path"
   ]
  },
  {
   "cell_type": "code",
   "execution_count": null,
   "metadata": {},
   "outputs": [],
   "source": [
    "longest_path"
   ]
  },
  {
   "cell_type": "code",
   "execution_count": 12,
   "metadata": {},
   "outputs": [
    {
     "data": {
      "text/plain": [
       "6640.0"
      ]
     },
     "execution_count": 12,
     "metadata": {},
     "output_type": "execute_result"
    }
   ],
   "source": [
    "length / 2"
   ]
  },
  {
   "cell_type": "code",
   "execution_count": null,
   "metadata": {},
   "outputs": [],
   "source": [
    "import networkx as nx\n",
    "import matplotlib.pyplot as plt\n",
    "\n",
    "# Assuming G is your directed graph\n",
    "# Create and add edges to G as shown previously\n",
    "\n",
    "# Arrange nodes in a square (grid) layout\n",
    "pos = {node: node for node in G.nodes()}\n",
    "\n",
    "# Draw the graph\n",
    "nx.draw(G, pos, with_labels=True, node_size=700, node_color=\"lightblue\", font_size=10, font_weight='bold')\n",
    "plt.title('Graph with Nodes Arranged in a Square Grid')\n",
    "plt.show()"
   ]
  }
 ],
 "metadata": {
  "kernelspec": {
   "display_name": "Python 3",
   "language": "python",
   "name": "python3"
  },
  "language_info": {
   "codemirror_mode": {
    "name": "ipython",
    "version": 3
   },
   "file_extension": ".py",
   "mimetype": "text/x-python",
   "name": "python",
   "nbconvert_exporter": "python",
   "pygments_lexer": "ipython3",
   "version": "3.11.0"
  }
 },
 "nbformat": 4,
 "nbformat_minor": 2
}
