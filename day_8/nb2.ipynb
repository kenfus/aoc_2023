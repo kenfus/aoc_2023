{
 "cells": [
  {
   "cell_type": "code",
   "execution_count": 68,
   "metadata": {},
   "outputs": [],
   "source": [
    "with open('input.txt') as f:\n",
    "    lines = f.readlines()\n",
    "from itertools import cycle\n"
   ]
  },
  {
   "cell_type": "code",
   "execution_count": 69,
   "metadata": {},
   "outputs": [],
   "source": [
    "lr = lines[0].strip()"
   ]
  },
  {
   "cell_type": "code",
   "execution_count": 70,
   "metadata": {},
   "outputs": [],
   "source": [
    "nodes = lines[1:]\n",
    "nodes = [x.strip() for x in nodes  if x.strip() != '']\n"
   ]
  },
  {
   "cell_type": "code",
   "execution_count": null,
   "metadata": {},
   "outputs": [],
   "source": [
    "nodes_dict = {}\n",
    "for node in nodes:\n",
    "    from_ = node.split('=')[0].strip()\n",
    "    to_ = node.split('=')[1].strip()\n",
    "    to_l = to_.split(',')[0].strip().replace('(', \"\").strip()\n",
    "    to_r = to_.split(',')[1].strip().replace(')', \"\").strip()\n",
    "    nodes_dict[from_] = (to_l, to_r)\n",
    "nodes_dict"
   ]
  },
  {
   "cell_type": "code",
   "execution_count": 83,
   "metadata": {},
   "outputs": [],
   "source": [
    "current_nodes = [k for k, v in nodes_dict.items() if k.endswith('A')]\n",
    "is_end_nodes = [False for _ in range(len(current_nodes))]\n",
    "steps = [0 for _ in range(len(current_nodes))]\n",
    "step = 0\n",
    "lr_cycled = cycle(lr)\n",
    "for command in lr_cycled:\n",
    "    for node_id, current_node in enumerate(current_nodes):\n",
    "        if current_node.endswith('Z'):\n",
    "            is_end_nodes[node_id] = True\n",
    "            steps[node_id] = step\n",
    "        if command == 'L':\n",
    "            current_nodes[node_id] = nodes_dict[current_nodes[node_id]][0]\n",
    "        elif command == 'R':\n",
    "            current_nodes[node_id] = nodes_dict[current_nodes[node_id]][1]\n",
    "    if all(is_end_nodes):\n",
    "        break\n",
    "    step +=1"
   ]
  },
  {
   "cell_type": "code",
   "execution_count": 84,
   "metadata": {},
   "outputs": [
    {
     "data": {
      "text/plain": [
       "[16343, 16897, 21883, 20221, 19667, 13019]"
      ]
     },
     "execution_count": 84,
     "metadata": {},
     "output_type": "execute_result"
    }
   ],
   "source": [
    "steps"
   ]
  },
  {
   "cell_type": "code",
   "execution_count": 92,
   "metadata": {},
   "outputs": [
    {
     "data": {
      "text/plain": [
       "47.0"
      ]
     },
     "execution_count": 92,
     "metadata": {},
     "output_type": "execute_result"
    }
   ],
   "source": [
    "13019 / 277"
   ]
  },
  {
   "cell_type": "code",
   "execution_count": 85,
   "metadata": {},
   "outputs": [
    {
     "data": {
      "text/plain": [
       "19185263738117"
      ]
     },
     "execution_count": 85,
     "metadata": {},
     "output_type": "execute_result"
    }
   ],
   "source": [
    "import math\n",
    "math.lcm(*steps)"
   ]
  }
 ],
 "metadata": {
  "kernelspec": {
   "display_name": "aoc_2023",
   "language": "python",
   "name": "python3"
  },
  "language_info": {
   "codemirror_mode": {
    "name": "ipython",
    "version": 3
   },
   "file_extension": ".py",
   "mimetype": "text/x-python",
   "name": "python",
   "nbconvert_exporter": "python",
   "pygments_lexer": "ipython3",
   "version": "3.11.0"
  }
 },
 "nbformat": 4,
 "nbformat_minor": 2
}
