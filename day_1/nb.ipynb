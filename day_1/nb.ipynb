{
 "cells": [
  {
   "cell_type": "code",
   "execution_count": 2,
   "metadata": {},
   "outputs": [],
   "source": [
    "use std::error::Error;\n",
    "use std::fs::File;\n",
    "use std::io::prelude::*;\n",
    "use std::iter::zip;\n",
    "\n",
    "fn read_in_local_file(path: &str) -> Result<String, Box<dyn Error>> {\n",
    "    let mut file = File::open(path)?;\n",
    "    let mut contents = String::new();\n",
    "    file.read_to_string(&mut contents)?;\n",
    "    Ok(contents)\n",
    "}\n",
    "\n",
    "fn return_string_as_number(str_vector: Vec<char>) -> u32 {\n",
    "    if str_vector.len() == 0 {\n",
    "        return 0;\n",
    "    }\n",
    "    let str_number: String = str_vector.iter().collect();\n",
    "    let existing_numbers: Vec<&str> = [\n",
    "        \"one\", \"two\", \"three\", \"four\", \"five\", \"six\", \"seven\", \"eight\", \"nine\",\n",
    "    ]\n",
    "    .to_vec();\n",
    "    for (index, number) in existing_numbers.iter().enumerate() {\n",
    "        if str_number.contains(number) {\n",
    "            return (index + 1) as u32;\n",
    "        }\n",
    "    }\n",
    "    return 0;\n",
    "}\n",
    "fn main() {\n",
    "    let contents = read_in_local_file(\"src/input_1.txt\").unwrap();\n",
    "    let contents_list: Vec<&str> = contents.split(\"\\n\").collect();\n",
    "    let mut first_numbers: Vec<char> = Vec::new();\n",
    "\n",
    "    for content in contents_list {\n",
    "        let mut five_char_buffer = Vec::new();\n",
    "        for char in content.chars() {\n",
    "            five_char_buffer.push(char);\n",
    "            let char_from_string = return_string_as_number(five_char_buffer.clone());\n",
    "            if char_from_string != 0 {\n",
    "                first_numbers.push((b'0' + char_from_string as u8) as char);\n",
    "                break;\n",
    "            }\n",
    "            // if char is digit\n",
    "            if char.is_digit(10) {\n",
    "                first_numbers.push(char);\n",
    "                break;\n",
    "            }\n",
    "            if five_char_buffer.len() > 5 {\n",
    "                five_char_buffer.remove(0);\n",
    "            }\n",
    "        }\n",
    "    }\n",
    "    let contents_list: Vec<&str> = contents.split(\"\\n\").collect();\n",
    "    let mut second_numbers: Vec<char> = Vec::new();\n",
    "    for content in contents_list {\n",
    "        let mut five_char_buffer = Vec::new();\n",
    "        for char in content.chars().rev() {\n",
    "            five_char_buffer.push(char);\n",
    "            let mut reversed_buffer = five_char_buffer.clone();\n",
    "            reversed_buffer.reverse();\n",
    "            let char_from_string = return_string_as_number(reversed_buffer);\n",
    "            if char_from_string != 0 {\n",
    "                second_numbers.push((b'0' + char_from_string as u8) as char);\n",
    "                break;\n",
    "            }\n",
    "            // if char is digit\n",
    "            if char.is_digit(10) {\n",
    "                second_numbers.push(char);\n",
    "                break;\n",
    "            }\n",
    "            if five_char_buffer.len() > 5 {\n",
    "                five_char_buffer.remove(0);\n",
    "            }\n",
    "        }\n",
    "    }\n",
    "\n",
    "    let mut sum: u32 = 0;\n",
    "    for (first, second) in zip(first_numbers, second_numbers) {\n",
    "        let combined = format!(\"{}{}\", first, second);\n",
    "        sum += combined.parse::<u32>().unwrap();\n",
    "    }\n",
    "    println!(\"Sum: {}\", sum);\n",
    "}\n"
   ]
  },
  {
   "cell_type": "code",
   "execution_count": 3,
   "metadata": {},
   "outputs": [
    {
     "name": "stdout",
     "output_type": "stream",
     "text": [
      "Sum: 54418\n"
     ]
    },
    {
     "data": {
      "text/plain": [
       "()"
      ]
     },
     "execution_count": 3,
     "metadata": {},
     "output_type": "execute_result"
    }
   ],
   "source": [
    "main()"
   ]
  }
 ],
 "metadata": {
  "kernelspec": {
   "display_name": "Rust",
   "language": "rust",
   "name": "rust"
  },
  "language_info": {
   "codemirror_mode": "rust",
   "file_extension": ".rs",
   "mimetype": "text/rust",
   "name": "rust",
   "pygment_lexer": "rust",
   "version": ""
  }
 },
 "nbformat": 4,
 "nbformat_minor": 2
}
