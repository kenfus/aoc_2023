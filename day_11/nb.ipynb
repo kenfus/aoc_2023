{
 "cells": [
  {
   "cell_type": "code",
   "execution_count": 63,
   "metadata": {},
   "outputs": [],
   "source": [
    "with open('input.txt') as f:\n",
    "    lines = f.readlines()"
   ]
  },
  {
   "cell_type": "code",
   "execution_count": 64,
   "metadata": {},
   "outputs": [
    {
     "data": {
      "text/plain": [
       "[['.', '.', '.', '#', '.', '.', '.', '.', '.', '.'],\n",
       " ['.', '.', '.', '.', '.', '.', '.', '#', '.', '.'],\n",
       " ['#', '.', '.', '.', '.', '.', '.', '.', '.', '.'],\n",
       " ['.', '.', '.', '.', '.', '.', '.', '.', '.', '.'],\n",
       " ['.', '.', '.', '.', '.', '.', '#', '.', '.', '.'],\n",
       " ['.', '#', '.', '.', '.', '.', '.', '.', '.', '.'],\n",
       " ['.', '.', '.', '.', '.', '.', '.', '.', '.', '#'],\n",
       " ['.', '.', '.', '.', '.', '.', '.', '.', '.', '.'],\n",
       " ['.', '.', '.', '.', '.', '.', '.', '#', '.', '.'],\n",
       " ['#', '.', '.', '.', '#', '.', '.', '.', '.', '.']]"
      ]
     },
     "execution_count": 64,
     "metadata": {},
     "output_type": "execute_result"
    }
   ],
   "source": [
    "galaxy_list = []\n",
    "for line in lines:\n",
    "    row = [x for x in line.strip()]\n",
    "    galaxy_list.append(row)\n",
    "galaxy_list"
   ]
  },
  {
   "cell_type": "code",
   "execution_count": 65,
   "metadata": {},
   "outputs": [],
   "source": [
    "def expand_universe(galaxy_list):\n",
    "    galaxy_list_arr = np.array(galaxy_list)\n",
    "    row, col = np.where(galaxy_list_arr == '#')\n",
    "    no_galaxy_row = np.setdiff1d(np.arange(0, len(galaxy_list_arr)), row)\n",
    "    print(no_galaxy_row)\n",
    "    no_galaxy_col = np.setdiff1d(np.arange(0, len(galaxy_list_arr[0])), col)\n",
    "    for n, i in enumerate(no_galaxy_row):\n",
    "        print(i)\n",
    "        galaxy_list_arr = np.insert(galaxy_list_arr, i+n, '.', axis=0)\n",
    "    for n, i in enumerate(no_galaxy_col):\n",
    "        print(i)\n",
    "        galaxy_list_arr = np.insert(galaxy_list_arr, i+n, '.', axis=1)\n",
    "\n",
    "    return galaxy_list_arr.tolist()\n",
    "\n"
   ]
  },
  {
   "cell_type": "code",
   "execution_count": 66,
   "metadata": {},
   "outputs": [
    {
     "name": "stdout",
     "output_type": "stream",
     "text": [
      "[3 7]\n",
      "3\n",
      "7\n",
      "2\n",
      "5\n",
      "8\n"
     ]
    }
   ],
   "source": [
    "expanded_galaxy_list = expand_universe(galaxy_list)"
   ]
  },
  {
   "cell_type": "code",
   "execution_count": 67,
   "metadata": {},
   "outputs": [
    {
     "name": "stdout",
     "output_type": "stream",
     "text": [
      "....#........\n",
      ".........#...\n",
      "#............\n",
      ".............\n",
      ".............\n",
      "........#....\n",
      ".#...........\n",
      "............#\n",
      ".............\n",
      ".............\n",
      ".........#...\n",
      "#....#.......\n"
     ]
    }
   ],
   "source": [
    "for line in expanded_galaxy_list:\n",
    "    print(''.join(line))"
   ]
  },
  {
   "cell_type": "code",
   "execution_count": 68,
   "metadata": {},
   "outputs": [],
   "source": [
    "def manhat_dist(x1, y1, x2, y2):\n",
    "    return abs(x1-x2) + abs(y1-y2)"
   ]
  },
  {
   "cell_type": "code",
   "execution_count": 69,
   "metadata": {},
   "outputs": [],
   "source": [
    "galaxies = np.where(np.array(expanded_galaxy_list) == '#')"
   ]
  },
  {
   "cell_type": "code",
   "execution_count": 70,
   "metadata": {},
   "outputs": [
    {
     "data": {
      "text/plain": [
       "374"
      ]
     },
     "execution_count": 70,
     "metadata": {},
     "output_type": "execute_result"
    }
   ],
   "source": [
    "path_lengths = 0\n",
    "for i, (x_from, y_from) in enumerate(zip(galaxies[0], galaxies[1])):\n",
    "    for j, (x_to, y_to) in enumerate(zip(galaxies[0], galaxies[1])):\n",
    "        if j <= i:\n",
    "            continue\n",
    "        path_lengths += manhat_dist(x_from, y_from, x_to, y_to)\n",
    "path_lengths"
   ]
  }
 ],
 "metadata": {
  "kernelspec": {
   "display_name": "Python 3",
   "language": "python",
   "name": "python3"
  },
  "language_info": {
   "codemirror_mode": {
    "name": "ipython",
    "version": 3
   },
   "file_extension": ".py",
   "mimetype": "text/x-python",
   "name": "python",
   "nbconvert_exporter": "python",
   "pygments_lexer": "ipython3",
   "version": "3.11.0"
  }
 },
 "nbformat": 4,
 "nbformat_minor": 2
}
