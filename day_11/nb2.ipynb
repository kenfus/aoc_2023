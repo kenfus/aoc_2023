{
 "cells": [
  {
   "cell_type": "code",
   "execution_count": 61,
   "metadata": {},
   "outputs": [],
   "source": [
    "with open('input.txt') as f:\n",
    "    lines = f.readlines()\n",
    "\n",
    "import numpy as np"
   ]
  },
  {
   "cell_type": "code",
   "execution_count": 62,
   "metadata": {},
   "outputs": [],
   "source": [
    "def expand_universe_idx(galaxy_list):\n",
    "    galaxy_list_arr = np.array(galaxy_list)\n",
    "    row, col = np.where(galaxy_list_arr == '#')\n",
    "    no_galaxy_row = np.setdiff1d(np.arange(0, len(galaxy_list_arr)), row)\n",
    "    no_galaxy_col = np.setdiff1d(np.arange(0, len(galaxy_list_arr[0])), col)\n",
    "    return no_galaxy_row, no_galaxy_col"
   ]
  },
  {
   "cell_type": "code",
   "execution_count": 63,
   "metadata": {},
   "outputs": [],
   "source": [
    "galaxy_list = []\n",
    "for line in lines:\n",
    "    row = [x for x in line.strip()]\n",
    "    galaxy_list.append(row)"
   ]
  },
  {
   "cell_type": "code",
   "execution_count": 64,
   "metadata": {},
   "outputs": [],
   "source": [
    "expanded_galaxy_idx = expand_universe_idx(galaxy_list)"
   ]
  },
  {
   "cell_type": "code",
   "execution_count": 65,
   "metadata": {},
   "outputs": [
    {
     "data": {
      "text/plain": [
       "(array([], dtype=int64), array([15, 49, 66, 70, 83, 88, 92]))"
      ]
     },
     "execution_count": 65,
     "metadata": {},
     "output_type": "execute_result"
    }
   ],
   "source": [
    "expanded_galaxy_idx"
   ]
  },
  {
   "cell_type": "code",
   "execution_count": null,
   "metadata": {},
   "outputs": [],
   "source": [
    "for line in galaxy_list:\n",
    "    print(''.join(line))"
   ]
  },
  {
   "cell_type": "code",
   "execution_count": 67,
   "metadata": {},
   "outputs": [],
   "source": [
    "def manhat_dist(x1, y1, x2, y2):\n",
    "    return abs(x1-x2) + abs(y1-y2)"
   ]
  },
  {
   "cell_type": "code",
   "execution_count": 68,
   "metadata": {},
   "outputs": [],
   "source": [
    "galaxies = np.where(np.array(galaxy_list) == '#')"
   ]
  },
  {
   "cell_type": "code",
   "execution_count": 69,
   "metadata": {},
   "outputs": [],
   "source": [
    "path_lengths = 0\n",
    "MULTIPLIER = 1000000\n",
    "for i, (x_from, y_from) in enumerate(zip(galaxies[0], galaxies[1])):\n",
    "    for j, (x_to, y_to) in enumerate(zip(galaxies[0], galaxies[1])):\n",
    "        if j <= i:\n",
    "            continue\n",
    "        row_path = np.arange(x_from, x_to) if x_from < x_to else np.arange(x_to, x_from)\n",
    "        col_path = np.arange(y_from, y_to) if y_from < y_to else np.arange(y_to, y_from)\n",
    "        row_extend_path = np.intersect1d(row_path, expanded_galaxy_idx[0])\n",
    "        col_extend_path = np.intersect1d(col_path, expanded_galaxy_idx[1])\n",
    "        path_lengths += manhat_dist(x_from, y_from, x_to, y_to) + (len(row_extend_path) + len(col_extend_path)) * MULTIPLIER - (len(row_extend_path) + len(col_extend_path))"
   ]
  },
  {
   "cell_type": "code",
   "execution_count": 70,
   "metadata": {},
   "outputs": [
    {
     "data": {
      "text/plain": [
       "298932923702"
      ]
     },
     "execution_count": 70,
     "metadata": {},
     "output_type": "execute_result"
    }
   ],
   "source": [
    "path_lengths"
   ]
  }
 ],
 "metadata": {
  "kernelspec": {
   "display_name": "Python 3",
   "language": "python",
   "name": "python3"
  },
  "language_info": {
   "codemirror_mode": {
    "name": "ipython",
    "version": 3
   },
   "file_extension": ".py",
   "mimetype": "text/x-python",
   "name": "python",
   "nbconvert_exporter": "python",
   "pygments_lexer": "ipython3",
   "version": "3.11.0"
  }
 },
 "nbformat": 4,
 "nbformat_minor": 2
}
