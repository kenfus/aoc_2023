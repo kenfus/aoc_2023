{
 "cells": [
  {
   "cell_type": "code",
   "execution_count": 42,
   "metadata": {},
   "outputs": [],
   "source": [
    "use std::error::Error;\n",
    "use std::fs::File;\n",
    "use std::io::{self, Read};\n",
    "use std::collections::HashMap;\n",
    "use std::cmp::{min, max}\n",
    "use std::collections::HashSet;"
   ]
  },
  {
   "cell_type": "code",
   "execution_count": 43,
   "metadata": {},
   "outputs": [],
   "source": [
    "fn read_in_local_file(path: &str) -> Result<String, Box<dyn Error>> {\n",
    "    let mut file = File::open(path)?;\n",
    "    let mut contents = String::new();\n",
    "    file.read_to_string(&mut contents)?;\n",
    "    Ok(contents)\n",
    "}"
   ]
  },
  {
   "cell_type": "code",
   "execution_count": 44,
   "metadata": {},
   "outputs": [],
   "source": [
    "let content_list = read_in_local_file(\"input.txt\").unwrap();"
   ]
  },
  {
   "cell_type": "code",
   "execution_count": 45,
   "metadata": {},
   "outputs": [],
   "source": [
    "fn has_symbol_around(row_id: usize, col_id: usize, content_list_mat: Vec<Vec<char>>) -> bool {\n",
    "    let num_rows = content_list_mat.len() as i32;\n",
    "    let num_cols = content_list_mat.get(0).map(|row| row.len()).unwrap() as i32;\n",
    "\n",
    "    for i in 0..3 {\n",
    "        for j in 0..3 {\n",
    "            let adjusted_i = (i as i32 - 1);\n",
    "            let adjusted_j = (j as i32 - 1);\n",
    "            let row_index = min(max(row_id as i32 + adjusted_i, 0), num_rows - 1) as usize;\n",
    "            let col_index = min(max(col_id as i32 + adjusted_j, 0), num_cols - 1) as usize;\n",
    "            let c = content_list_mat[row_index][col_index];\n",
    "            if c != '.' && !c.is_digit(10) {\n",
    "                return true\n",
    "            }\n",
    "        }\n",
    "    }\n",
    "    return false;\n",
    "}\n",
    "\n",
    "fn get_symbol_pos(row_id: usize, col_id: usize, content_list_mat: Vec<Vec<char>>) -> (usize, usize) {\n",
    "    let num_rows = content_list_mat.len() as i32;\n",
    "    let num_cols = content_list_mat.get(0).map(|row| row.len()).unwrap() as i32;\n",
    "\n",
    "    for i in 0..3 {\n",
    "        for j in 0..3 {\n",
    "            let adjusted_i = (i as i32 - 1);\n",
    "            let adjusted_j = (j as i32 - 1);\n",
    "            let row_index = min(max(row_id as i32 + adjusted_i, 0), num_rows - 1) as usize;\n",
    "            let col_index = min(max(col_id as i32 + adjusted_j, 0), num_cols - 1) as usize;\n",
    "            let c = content_list_mat[row_index][col_index];\n",
    "            if c != '.' && !c.is_digit(10) {\n",
    "                return (row_index, col_index)\n",
    "            }\n",
    "        }\n",
    "    }\n",
    "    return (0, 0)\n",
    "}\n",
    "    "
   ]
  },
  {
   "cell_type": "code",
   "execution_count": 46,
   "metadata": {},
   "outputs": [
    {
     "data": {
      "text/plain": [
       "6"
      ]
     },
     "execution_count": 46,
     "metadata": {},
     "output_type": "execute_result"
    }
   ],
   "source": [
    "number_of_lines"
   ]
  },
  {
   "cell_type": "code",
   "execution_count": 47,
   "metadata": {},
   "outputs": [
    {
     "data": {
      "text/plain": [
       "()"
      ]
     },
     "execution_count": 47,
     "metadata": {},
     "output_type": "execute_result"
    }
   ],
   "source": [
    "let number_of_lines = content_list.lines().count();\n",
    "\n",
    "let mut winning_per_card: HashMap<i32, i32> = HashMap::with_capacity(number_of_lines);\n",
    "let mut extra_cards_per_card: HashMap<i32, i32> = HashMap::with_capacity(number_of_lines);\n",
    "\n",
    "for line in content_list.lines() {\n",
    "    let card_n: i32 = line.split(\":\").nth(0).unwrap().split_whitespace().nth(1).unwrap().trim().parse().unwrap();\n",
    "    winning_per_card.insert(card_n, 0);\n",
    "    let my_cards_str = line.split(\":\").nth(1).unwrap().split(\"|\").nth(0).unwrap().trim();\n",
    "    let winning_cards_str = line.split(\":\").nth(1).unwrap().split(\"|\").nth(1).unwrap().trim();\n",
    "\n",
    "    let winning_cards: HashSet<i32> = winning_cards_str\n",
    "        .split_whitespace()\n",
    "        .map(|s| s.parse().unwrap())\n",
    "        .collect();\n",
    "    let my_cards: HashSet<i32> = my_cards_str\n",
    "        .split_whitespace()\n",
    "        .map(|s| s.parse().unwrap())\n",
    "        .collect();\n",
    "    let intersection: HashSet<i32> = winning_cards.intersection(&my_cards).cloned().collect();\n",
    "    let inter_len = intersection.len() as i32;\n",
    "    winning_per_card.insert(card_n, intersection.len() as i32);\n",
    "    for i in card_n+1..card_n + inter_len{\n",
    "        *extra_cards_per_card.entry(i).or_insert(0) += 1;\n",
    "    }\n",
    "}\n"
   ]
  },
  {
   "cell_type": "code",
   "execution_count": 48,
   "metadata": {},
   "outputs": [
    {
     "data": {
      "text/plain": [
       "{2: 2, 1: 4, 3: 2, 4: 1, 6: 0, 5: 0}"
      ]
     },
     "execution_count": 48,
     "metadata": {},
     "output_type": "execute_result"
    }
   ],
   "source": [
    "winning_per_card"
   ]
  },
  {
   "cell_type": "code",
   "execution_count": 49,
   "metadata": {},
   "outputs": [
    {
     "data": {
      "text/plain": [
       "{4: 2, 2: 1, 3: 2}"
      ]
     },
     "execution_count": 49,
     "metadata": {},
     "output_type": "execute_result"
    }
   ],
   "source": [
    "extra_cards_per_card"
   ]
  }
 ],
 "metadata": {
  "kernelspec": {
   "display_name": "Rust",
   "language": "rust",
   "name": "rust"
  },
  "language_info": {
   "codemirror_mode": "rust",
   "file_extension": ".rs",
   "mimetype": "text/rust",
   "name": "rust",
   "pygment_lexer": "rust",
   "version": ""
  }
 },
 "nbformat": 4,
 "nbformat_minor": 2
}
