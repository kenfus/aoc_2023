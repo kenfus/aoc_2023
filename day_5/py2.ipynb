{
 "cells": [
  {
   "cell_type": "code",
   "execution_count": 53,
   "metadata": {},
   "outputs": [],
   "source": [
    "with open('input.txt') as f:\n",
    "    lines = f.readlines()\n",
    "\n",
    "seeds = lines.pop(0).strip()\n",
    "seeds = seeds.split(':')[1].strip().split(' ')\n",
    "seeds = [int(x) for x in seeds]\n",
    "\n",
    "seeds_ranges = []\n",
    "for i in range(0, len(seeds)-1, 2):\n",
    "    seeds_ranges.append(range(seeds[i], seeds[i] + seeds[i+1]))\n"
   ]
  },
  {
   "cell_type": "code",
   "execution_count": 54,
   "metadata": {},
   "outputs": [],
   "source": [
    "def str_to_range(str_):\n",
    "    str_ = str_.split(' ')\n",
    "    str_ = [int(x) for x in str_ if x]\n",
    "    return str_\n",
    "\n",
    "def return_next_value(value, range_str):\n",
    "    range_n = str_to_range(range_str)\n",
    "    if value in range(range_n[0], range_n[0] + range_n[2]):\n",
    "        return value + (range_n[1] - range_n[0])\n",
    "    else:\n",
    "        return value\n",
    "    \n",
    "def return_next_map(loc, range_):\n",
    "    next_loc = None\n",
    "    for r in range_:\n",
    "        next_loc_ = return_next_value(loc, r)\n",
    "        if next_loc_ != loc:\n",
    "            next_loc = next_loc_\n",
    "    if not next_loc:\n",
    "        next_loc = loc\n",
    "    return next_loc"
   ]
  },
  {
   "cell_type": "code",
   "execution_count": 55,
   "metadata": {},
   "outputs": [
    {
     "data": {
      "text/plain": [
       "57"
      ]
     },
     "execution_count": 55,
     "metadata": {},
     "output_type": "execute_result"
    }
   ],
   "source": [
    "return_next_value(61, \"60 56 37\")"
   ]
  },
  {
   "cell_type": "markdown",
   "metadata": {},
   "source": [
    "seeds: 79 14 55 13\n",
    "\n",
    "seed-to-soil map:\n",
    "50 98 2\n",
    "52 50 48\n",
    "\n",
    "soil-to-fertilizer map:\n",
    "0 15 37\n",
    "37 52 2\n",
    "39 0 15\n",
    "\n",
    "fertilizer-to-water map:\n",
    "49 53 8\n",
    "0 11 42\n",
    "42 0 7\n",
    "57 7 4\n",
    "\n",
    "water-to-light map:\n",
    "88 18 7\n",
    "18 25 70\n",
    "\n",
    "light-to-temperature map:\n",
    "45 77 23\n",
    "81 45 19\n",
    "68 64 13\n",
    "\n",
    "temperature-to-humidity map:\n",
    "0 69 1\n",
    "1 0 69\n",
    "\n",
    "humidity-to-location map:\n",
    "60 56 37\n",
    "56 93 4"
   ]
  },
  {
   "cell_type": "code",
   "execution_count": 56,
   "metadata": {},
   "outputs": [],
   "source": [
    "# Clean\n",
    "maps = []\n",
    "ranges = {}\n",
    "for line in lines:\n",
    "    line = line.strip().replace('\\n', '').replace('map:', '').strip()\n",
    "    if line:\n",
    "        maps.append(line)\n",
    "\n",
    "map_str = ''\n",
    "for line in maps:\n",
    "    if '-to-' in line:\n",
    "        map_str = line\n",
    "        ranges[map_str] = ''\n",
    "        continue\n",
    "    ranges[map_str] += '|' + line if ranges[map_str] else line"
   ]
  },
  {
   "cell_type": "code",
   "execution_count": 57,
   "metadata": {},
   "outputs": [
    {
     "data": {
      "text/plain": [
       "98"
      ]
     },
     "execution_count": 57,
     "metadata": {},
     "output_type": "execute_result"
    }
   ],
   "source": [
    "return_next_value(50, \"50 98 2\")"
   ]
  },
  {
   "cell_type": "code",
   "execution_count": 58,
   "metadata": {},
   "outputs": [],
   "source": [
    "from multiprocessing import Pool\n",
    "import os\n",
    "from functools import partial"
   ]
  },
  {
   "cell_type": "code",
   "execution_count": 59,
   "metadata": {},
   "outputs": [],
   "source": [
    "def get_lowest_loc(next_loc, ranges, seeds_ranges):\n",
    "    loc = next_loc\n",
    "    for k in reversed(list(ranges.keys())):\n",
    "        range_str = ranges[k]\n",
    "        range_str = range_str.split('|')\n",
    "        next_loc = return_next_map(next_loc, range_str)\n",
    "    for seed_range in seeds_ranges:\n",
    "        if next_loc in seed_range:\n",
    "            return loc"
   ]
  },
  {
   "cell_type": "code",
   "execution_count": 60,
   "metadata": {},
   "outputs": [
    {
     "data": {
      "text/plain": [
       "[range(1132132257, 1455563254),\n",
       " range(2043754183, 2048255238),\n",
       " range(2539071613, 3598100002),\n",
       " range(1695770806, 1756240975),\n",
       " range(2220296232, 2471712170),\n",
       " range(1673679740, 1679743438),\n",
       " range(962820135, 1096002452),\n",
       " range(262615889, 590396394),\n",
       " range(3602765034, 3797623755),\n",
       " range(2147281339, 2184747848)]"
      ]
     },
     "execution_count": 60,
     "metadata": {},
     "output_type": "execute_result"
    }
   ],
   "source": [
    "seeds_ranges"
   ]
  },
  {
   "cell_type": "code",
   "execution_count": 63,
   "metadata": {},
   "outputs": [
    {
     "ename": "KeyboardInterrupt",
     "evalue": "",
     "output_type": "error",
     "traceback": [
      "\u001b[0;31m---------------------------------------------------------------------------\u001b[0m",
      "\u001b[0;31mIndexError\u001b[0m                                Traceback (most recent call last)",
      "File \u001b[0;32m~/miniconda3/envs/aoc_2023/lib/python3.11/multiprocessing/pool.py:856\u001b[0m, in \u001b[0;36mIMapIterator.next\u001b[0;34m(self, timeout)\u001b[0m\n\u001b[1;32m    855\u001b[0m \u001b[39mtry\u001b[39;00m:\n\u001b[0;32m--> 856\u001b[0m     item \u001b[39m=\u001b[39m \u001b[39mself\u001b[39m\u001b[39m.\u001b[39m_items\u001b[39m.\u001b[39mpopleft()\n\u001b[1;32m    857\u001b[0m \u001b[39mexcept\u001b[39;00m \u001b[39mIndexError\u001b[39;00m:\n",
      "\u001b[0;31mIndexError\u001b[0m: pop from an empty deque",
      "\nDuring handling of the above exception, another exception occurred:\n",
      "\u001b[0;31mKeyboardInterrupt\u001b[0m                         Traceback (most recent call last)",
      "\u001b[1;32m/home/kenfus/aoc_2023/day_5/py2.ipynb Cell 10\u001b[0m line \u001b[0;36m6\n\u001b[1;32m      <a href='vscode-notebook-cell://wsl%2Bubuntu/home/kenfus/aoc_2023/day_5/py2.ipynb#W6sdnNjb2RlLXJlbW90ZQ%3D%3D?line=3'>4</a>\u001b[0m \u001b[39mwith\u001b[39;00m Pool(os\u001b[39m.\u001b[39mcpu_count()) \u001b[39mas\u001b[39;00m p:\n\u001b[1;32m      <a href='vscode-notebook-cell://wsl%2Bubuntu/home/kenfus/aoc_2023/day_5/py2.ipynb#W6sdnNjb2RlLXJlbW90ZQ%3D%3D?line=4'>5</a>\u001b[0m     partial_ \u001b[39m=\u001b[39m partial(get_lowest_loc, ranges\u001b[39m=\u001b[39mranges, seeds_ranges\u001b[39m=\u001b[39mseeds_ranges)\n\u001b[0;32m----> <a href='vscode-notebook-cell://wsl%2Bubuntu/home/kenfus/aoc_2023/day_5/py2.ipynb#W6sdnNjb2RlLXJlbW90ZQ%3D%3D?line=5'>6</a>\u001b[0m     \u001b[39mfor\u001b[39;49;00m result \u001b[39min\u001b[39;49;00m p\u001b[39m.\u001b[39;49mimap_unordered(partial_, loc, chunksize\u001b[39m=\u001b[39;49m\u001b[39m100000\u001b[39;49m):\n\u001b[1;32m      <a href='vscode-notebook-cell://wsl%2Bubuntu/home/kenfus/aoc_2023/day_5/py2.ipynb#W6sdnNjb2RlLXJlbW90ZQ%3D%3D?line=6'>7</a>\u001b[0m         \u001b[39mif\u001b[39;49;00m result:\n\u001b[1;32m      <a href='vscode-notebook-cell://wsl%2Bubuntu/home/kenfus/aoc_2023/day_5/py2.ipynb#W6sdnNjb2RlLXJlbW90ZQ%3D%3D?line=7'>8</a>\u001b[0m             \u001b[39mprint\u001b[39;49m(result)\n",
      "File \u001b[0;32m~/miniconda3/envs/aoc_2023/lib/python3.11/multiprocessing/pool.py:451\u001b[0m, in \u001b[0;36m<genexpr>\u001b[0;34m(.0)\u001b[0m\n\u001b[1;32m    443\u001b[0m result \u001b[39m=\u001b[39m IMapUnorderedIterator(\u001b[39mself\u001b[39m)\n\u001b[1;32m    444\u001b[0m \u001b[39mself\u001b[39m\u001b[39m.\u001b[39m_taskqueue\u001b[39m.\u001b[39mput(\n\u001b[1;32m    445\u001b[0m     (\n\u001b[1;32m    446\u001b[0m         \u001b[39mself\u001b[39m\u001b[39m.\u001b[39m_guarded_task_generation(result\u001b[39m.\u001b[39m_job,\n\u001b[0;32m   (...)\u001b[0m\n\u001b[1;32m    449\u001b[0m         result\u001b[39m.\u001b[39m_set_length\n\u001b[1;32m    450\u001b[0m     ))\n\u001b[0;32m--> 451\u001b[0m \u001b[39mreturn\u001b[39;00m (item \u001b[39mfor\u001b[39;49;00m chunk \u001b[39min\u001b[39;49;00m result \u001b[39mfor\u001b[39;49;00m item \u001b[39min\u001b[39;49;00m chunk)\n",
      "File \u001b[0;32m~/miniconda3/envs/aoc_2023/lib/python3.11/multiprocessing/pool.py:861\u001b[0m, in \u001b[0;36mIMapIterator.next\u001b[0;34m(self, timeout)\u001b[0m\n\u001b[1;32m    859\u001b[0m     \u001b[39mself\u001b[39m\u001b[39m.\u001b[39m_pool \u001b[39m=\u001b[39m \u001b[39mNone\u001b[39;00m\n\u001b[1;32m    860\u001b[0m     \u001b[39mraise\u001b[39;00m \u001b[39mStopIteration\u001b[39;00m \u001b[39mfrom\u001b[39;00m \u001b[39mNone\u001b[39;00m\n\u001b[0;32m--> 861\u001b[0m \u001b[39mself\u001b[39;49m\u001b[39m.\u001b[39;49m_cond\u001b[39m.\u001b[39;49mwait(timeout)\n\u001b[1;32m    862\u001b[0m \u001b[39mtry\u001b[39;00m:\n\u001b[1;32m    863\u001b[0m     item \u001b[39m=\u001b[39m \u001b[39mself\u001b[39m\u001b[39m.\u001b[39m_items\u001b[39m.\u001b[39mpopleft()\n",
      "File \u001b[0;32m~/miniconda3/envs/aoc_2023/lib/python3.11/threading.py:320\u001b[0m, in \u001b[0;36mCondition.wait\u001b[0;34m(self, timeout)\u001b[0m\n\u001b[1;32m    318\u001b[0m \u001b[39mtry\u001b[39;00m:    \u001b[39m# restore state no matter what (e.g., KeyboardInterrupt)\u001b[39;00m\n\u001b[1;32m    319\u001b[0m     \u001b[39mif\u001b[39;00m timeout \u001b[39mis\u001b[39;00m \u001b[39mNone\u001b[39;00m:\n\u001b[0;32m--> 320\u001b[0m         waiter\u001b[39m.\u001b[39;49macquire()\n\u001b[1;32m    321\u001b[0m         gotit \u001b[39m=\u001b[39m \u001b[39mTrue\u001b[39;00m\n\u001b[1;32m    322\u001b[0m     \u001b[39melse\u001b[39;00m:\n",
      "\u001b[0;31mKeyboardInterrupt\u001b[0m: "
     ]
    }
   ],
   "source": [
    "loc = range(0, 10000000000)\n",
    "found = False\n",
    "\n",
    "with Pool(os.cpu_count()) as p:\n",
    "    partial_ = partial(get_lowest_loc, ranges=ranges, seeds_ranges=seeds_ranges)\n",
    "    for result in p.imap_unordered(partial_, loc, chunksize=100000):\n",
    "        if result:\n",
    "            print(result)\n",
    "            p.terminate()\n",
    "            break"
   ]
  },
  {
   "cell_type": "code",
   "execution_count": null,
   "metadata": {},
   "outputs": [],
   "source": []
  }
 ],
 "metadata": {
  "kernelspec": {
   "display_name": "aoc_2023",
   "language": "python",
   "name": "python3"
  },
  "language_info": {
   "codemirror_mode": {
    "name": "ipython",
    "version": 3
   },
   "file_extension": ".py",
   "mimetype": "text/x-python",
   "name": "python",
   "nbconvert_exporter": "python",
   "pygments_lexer": "ipython3",
   "version": "3.11.0"
  }
 },
 "nbformat": 4,
 "nbformat_minor": 2
}
