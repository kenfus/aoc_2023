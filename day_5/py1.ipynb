{
 "cells": [
  {
   "cell_type": "code",
   "execution_count": 134,
   "metadata": {},
   "outputs": [
    {
     "data": {
      "text/plain": [
       "[1132132257,\n",
       " 323430997,\n",
       " 2043754183,\n",
       " 4501055,\n",
       " 2539071613,\n",
       " 1059028389,\n",
       " 1695770806,\n",
       " 60470169,\n",
       " 2220296232,\n",
       " 251415938,\n",
       " 1673679740,\n",
       " 6063698,\n",
       " 962820135,\n",
       " 133182317,\n",
       " 262615889,\n",
       " 327780505,\n",
       " 3602765034,\n",
       " 194858721,\n",
       " 2147281339,\n",
       " 37466509]"
      ]
     },
     "execution_count": 134,
     "metadata": {},
     "output_type": "execute_result"
    }
   ],
   "source": [
    "with open('input.txt') as f:\n",
    "    lines = f.readlines()\n",
    "\n",
    "seeds = lines.pop(0).strip()\n",
    "seeds = seeds.split(':')[1].strip().split(' ')\n",
    "seeds = [int(x) for x in seeds]\n",
    "seeds"
   ]
  },
  {
   "cell_type": "code",
   "execution_count": 135,
   "metadata": {},
   "outputs": [],
   "source": [
    "# Clean\n",
    "maps = []\n",
    "ranges = {}\n",
    "for line in lines:\n",
    "    line = line.strip().replace('\\n', '').replace('map:', '').strip()\n",
    "    if line:\n",
    "        maps.append(line)\n",
    "\n",
    "map_str = ''\n",
    "for line in maps:\n",
    "    if '-to-' in line:\n",
    "        map_str = line\n",
    "        ranges[map_str] = ''\n",
    "        continue\n",
    "    ranges[map_str] += '|' + line if ranges[map_str] else line"
   ]
  },
  {
   "cell_type": "markdown",
   "metadata": {},
   "source": [
    "seeds: 79 14 55 13\n",
    "\n",
    "seed-to-soil map:\n",
    "50 98 2\n",
    "\n",
    "52 50 48\n",
    "\n",
    "soil-to-fertilizer map:\n",
    "0 15 37\n",
    "\n",
    "37 52 2\n",
    "\n",
    "39 0 15\n",
    "\n",
    "fertilizer-to-water map:\n",
    "49 53 8\n",
    "\n",
    "0 11 42\n",
    "\n",
    "42 0 7\n",
    "\n",
    "57 7 4\n",
    "\n",
    "water-to-light map:\n",
    "88 18 7\n",
    "\n",
    "18 25 70\n",
    "\n",
    "light-to-temperature map:\n",
    "45 77 23\n",
    "\n",
    "81 45 19\n",
    "\n",
    "68 64 13\n",
    "\n",
    "temperature-to-humidity map:\n",
    "0 69 1\n",
    "\n",
    "1 0 69\n",
    "\n",
    "humidity-to-location map:\n",
    "60 56 37\n",
    "\n",
    "56 93 4"
   ]
  },
  {
   "cell_type": "code",
   "execution_count": 136,
   "metadata": {},
   "outputs": [],
   "source": [
    "def str_to_range(str_):\n",
    "    str_ = str_.split(' ')\n",
    "    str_ = [int(x) for x in str_ if x]\n",
    "    return str_\n",
    "\n",
    "def return_next_value(value, range_str):\n",
    "    range = str_to_range(range_str)\n",
    "    if range[1] <= value <= range[1] + range[2] -1:\n",
    "        return value - (range[1] - range[0])\n",
    "    else:\n",
    "        return value"
   ]
  },
  {
   "cell_type": "code",
   "execution_count": 137,
   "metadata": {},
   "outputs": [
    {
     "data": {
      "text/plain": [
       "77"
      ]
     },
     "execution_count": 137,
     "metadata": {},
     "output_type": "execute_result"
    }
   ],
   "source": [
    "return_next_value(77, \"50 98 2\")"
   ]
  },
  {
   "cell_type": "code",
   "execution_count": 138,
   "metadata": {},
   "outputs": [
    {
     "data": {
      "text/plain": [
       "[1132132257,\n",
       " 323430997,\n",
       " 2043754183,\n",
       " 4501055,\n",
       " 2539071613,\n",
       " 1059028389,\n",
       " 1695770806,\n",
       " 60470169,\n",
       " 2220296232,\n",
       " 251415938,\n",
       " 1673679740,\n",
       " 6063698,\n",
       " 962820135,\n",
       " 133182317,\n",
       " 262615889,\n",
       " 327780505,\n",
       " 3602765034,\n",
       " 194858721,\n",
       " 2147281339,\n",
       " 37466509]"
      ]
     },
     "execution_count": 138,
     "metadata": {},
     "output_type": "execute_result"
    }
   ],
   "source": [
    "seeds"
   ]
  },
  {
   "cell_type": "code",
   "execution_count": 139,
   "metadata": {},
   "outputs": [],
   "source": [
    "locs = seeds.copy()\n",
    "next_locs = []\n",
    "for k, range in ranges.items():\n",
    "    range = range.split('|')\n",
    "    for loc in locs:\n",
    "        next_loc = None\n",
    "        for r in range:\n",
    "            next_loc_ = return_next_value(loc, r)\n",
    "            if next_loc_ != loc:\n",
    "                next_loc = next_loc_\n",
    "                continue\n",
    "        if not next_loc:\n",
    "            next_loc = loc\n",
    "        next_locs.append(next_loc)\n",
    "    locs = next_locs.copy()\n",
    "    next_locs = []"
   ]
  },
  {
   "cell_type": "code",
   "execution_count": 140,
   "metadata": {},
   "outputs": [
    {
     "data": {
      "text/plain": [
       "174137457"
      ]
     },
     "execution_count": 140,
     "metadata": {},
     "output_type": "execute_result"
    }
   ],
   "source": [
    "min(locs)"
   ]
  },
  {
   "cell_type": "code",
   "execution_count": 86,
   "metadata": {},
   "outputs": [],
   "source": [
    "def str_to_range(str_):\n",
    "    str_ = str_.split(' ')\n",
    "    str_ = [int(x) for x in str_ if x]\n",
    "    return str_"
   ]
  },
  {
   "cell_type": "code",
   "execution_count": 88,
   "metadata": {},
   "outputs": [
    {
     "data": {
      "text/plain": [
       "[52, 50, 48]"
      ]
     },
     "execution_count": 88,
     "metadata": {},
     "output_type": "execute_result"
    }
   ],
   "source": [
    "str_to_range('52 50 48')"
   ]
  },
  {
   "cell_type": "code",
   "execution_count": 95,
   "metadata": {},
   "outputs": [
    {
     "name": "stdout",
     "output_type": "stream",
     "text": [
      "60 56 37|56 93 4\n",
      "0 69 1|1 0 69\n",
      "45 77 23|81 45 19|68 64 13\n",
      "88 18 7|18 25 70\n",
      "49 53 8|0 11 42|42 0 7|57 7 4\n",
      "0 15 37|37 52 2|39 0 15\n",
      "50 98 2|52 50 48\n"
     ]
    }
   ],
   "source": [
    "current_values = seeds.copy()\n",
    "next_values = []\n",
    "for k in reversed(list(ranges.keys())):\n",
    "    v = ranges[k]\n",
    "    print(v)"
   ]
  },
  {
   "cell_type": "code",
   "execution_count": 85,
   "metadata": {},
   "outputs": [
    {
     "data": {
      "text/plain": [
       "[56, 93, 4]"
      ]
     },
     "execution_count": 85,
     "metadata": {},
     "output_type": "execute_result"
    }
   ],
   "source": [
    "map_range_value"
   ]
  },
  {
   "cell_type": "code",
   "execution_count": 83,
   "metadata": {},
   "outputs": [
    {
     "data": {
      "text/plain": [
       "[56, 93, 4]"
      ]
     },
     "execution_count": 83,
     "metadata": {},
     "output_type": "execute_result"
    }
   ],
   "source": [
    "map_range_value"
   ]
  },
  {
   "cell_type": "code",
   "execution_count": 81,
   "metadata": {},
   "outputs": [
    {
     "data": {
      "text/plain": [
       "[]"
      ]
     },
     "execution_count": 81,
     "metadata": {},
     "output_type": "execute_result"
    }
   ],
   "source": [
    "next_values"
   ]
  },
  {
   "cell_type": "code",
   "execution_count": 74,
   "metadata": {},
   "outputs": [
    {
     "data": {
      "text/plain": [
       "[79, 14, 55, 13]"
      ]
     },
     "execution_count": 74,
     "metadata": {},
     "output_type": "execute_result"
    }
   ],
   "source": [
    "current_values"
   ]
  },
  {
   "cell_type": "code",
   "execution_count": 68,
   "metadata": {},
   "outputs": [
    {
     "data": {
      "text/plain": [
       "['60 56 37', '56 93 4']"
      ]
     },
     "execution_count": 68,
     "metadata": {},
     "output_type": "execute_result"
    }
   ],
   "source": [
    "map_ranges"
   ]
  },
  {
   "cell_type": "code",
   "execution_count": 27,
   "metadata": {},
   "outputs": [
    {
     "data": {
      "text/plain": [
       "'\\n'"
      ]
     },
     "execution_count": 27,
     "metadata": {},
     "output_type": "execute_result"
    }
   ],
   "source": [
    "lines[0]"
   ]
  },
  {
   "cell_type": "code",
   "execution_count": 14,
   "metadata": {},
   "outputs": [
    {
     "data": {
      "text/plain": [
       "'seed-to-soil map:\\n'"
      ]
     },
     "execution_count": 14,
     "metadata": {},
     "output_type": "execute_result"
    }
   ],
   "source": [
    "seeds"
   ]
  },
  {
   "cell_type": "code",
   "execution_count": 10,
   "metadata": {},
   "outputs": [
    {
     "data": {
      "text/plain": [
       "['\\n',\n",
       " 'seed-to-soil map:\\n',\n",
       " '50 98 2\\n',\n",
       " '52 50 48\\n',\n",
       " '\\n',\n",
       " 'soil-to-fertilizer map:\\n',\n",
       " '0 15 37\\n',\n",
       " '37 52 2\\n',\n",
       " '39 0 15\\n',\n",
       " '\\n',\n",
       " 'fertilizer-to-water map:\\n',\n",
       " '49 53 8\\n',\n",
       " '0 11 42\\n',\n",
       " '42 0 7\\n',\n",
       " '57 7 4\\n',\n",
       " '\\n',\n",
       " 'water-to-light map:\\n',\n",
       " '88 18 7\\n',\n",
       " '18 25 70\\n',\n",
       " '\\n',\n",
       " 'light-to-temperature map:\\n',\n",
       " '45 77 23\\n',\n",
       " '81 45 19\\n',\n",
       " '68 64 13\\n',\n",
       " '\\n',\n",
       " 'temperature-to-humidity map:\\n',\n",
       " '0 69 1\\n',\n",
       " '1 0 69\\n',\n",
       " '\\n',\n",
       " 'humidity-to-location map:\\n',\n",
       " '60 56 37\\n',\n",
       " '56 93 4']"
      ]
     },
     "execution_count": 10,
     "metadata": {},
     "output_type": "execute_result"
    }
   ],
   "source": [
    "lines"
   ]
  }
 ],
 "metadata": {
  "kernelspec": {
   "display_name": "aoc_2023",
   "language": "python",
   "name": "python3"
  },
  "language_info": {
   "codemirror_mode": {
    "name": "ipython",
    "version": 3
   },
   "file_extension": ".py",
   "mimetype": "text/x-python",
   "name": "python",
   "nbconvert_exporter": "python",
   "pygments_lexer": "ipython3",
   "version": "3.11.0"
  }
 },
 "nbformat": 4,
 "nbformat_minor": 2
}
