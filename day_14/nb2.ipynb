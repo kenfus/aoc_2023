{
 "cells": [
  {
   "cell_type": "code",
   "execution_count": 269,
   "metadata": {},
   "outputs": [],
   "source": [
    "with open('input.txt') as f:\n",
    "    lines = f.readlines()  \n",
    "\n",
    "# Creating a list of lists of characters\n",
    "lines = [list(row.strip()) for row in lines]"
   ]
  },
  {
   "cell_type": "code",
   "execution_count": 270,
   "metadata": {},
   "outputs": [],
   "source": [
    "import copy\n",
    "import numpy as np"
   ]
  },
  {
   "cell_type": "code",
   "execution_count": 271,
   "metadata": {},
   "outputs": [],
   "source": [
    "def slide_stones(l):\n",
    "    new = copy.deepcopy(l)\n",
    "    for i, _ in enumerate(new):\n",
    "        if i == 0:\n",
    "            continue\n",
    "        for j, _ in enumerate(new[i]):\n",
    "            char = new[i][j]\n",
    "            if char == 'O':\n",
    "                new[i][j] = '.'\n",
    "                for k in range(i, -1, -1):\n",
    "                    if k == 0 or new[k-1][j] in ['O', '#']:\n",
    "                        new[k][j] = 'O'\n",
    "                        break\n",
    "                    elif new[k-1][j] == '.':\n",
    "                        continue\n",
    "\n",
    "    return new\n",
    "\n",
    "\n",
    "def rotate90(l):\n",
    "    rotated_array = np.rot90(np.array(l), -1)\n",
    "    return rotated_array.tolist()"
   ]
  },
  {
   "cell_type": "code",
   "execution_count": 272,
   "metadata": {},
   "outputs": [],
   "source": [
    "def find_char(new, char):\n",
    "    pos = []\n",
    "    for i, _ in enumerate(new):\n",
    "        for j, _ in enumerate(new[i]):\n",
    "            if new[i][j] == char:\n",
    "                pos.append(i)\n",
    "\n",
    "    return pos"
   ]
  },
  {
   "cell_type": "code",
   "execution_count": 273,
   "metadata": {},
   "outputs": [],
   "source": [
    "def find_cycle(l, n):\n",
    "    mats = []\n",
    "    for i in range(n):\n",
    "        mats.append(copy.deepcopy(l))\n",
    "        for _ in range(4):\n",
    "            l = slide_stones(l)\n",
    "            l = rotate90(l)\n",
    "\n",
    "        for j, mat in enumerate(mats):\n",
    "            if np.all(np.array(mat) == np.array(l)):\n",
    "                print('Found match')\n",
    "                return (i - j + 1, j, i)"
   ]
  },
  {
   "cell_type": "code",
   "execution_count": 274,
   "metadata": {},
   "outputs": [
    {
     "name": "stdout",
     "output_type": "stream",
     "text": [
      "Found match\n"
     ]
    }
   ],
   "source": [
    "cycles = find_cycle(lines, 10000)"
   ]
  },
  {
   "cell_type": "code",
   "execution_count": 275,
   "metadata": {},
   "outputs": [
    {
     "data": {
      "text/plain": [
       "(42, 83, 124)"
      ]
     },
     "execution_count": 275,
     "metadata": {},
     "output_type": "execute_result"
    }
   ],
   "source": [
    "cycles"
   ]
  },
  {
   "cell_type": "code",
   "execution_count": 285,
   "metadata": {},
   "outputs": [],
   "source": [
    "def slide_rot_n_times(l, n):\n",
    "    for i in range(n):\n",
    "        for _ in range(4):\n",
    "            l = slide_stones(l)\n",
    "            l = rotate90(l)\n",
    "    return l"
   ]
  },
  {
   "cell_type": "code",
   "execution_count": 286,
   "metadata": {},
   "outputs": [],
   "source": [
    "start_rot = slide_rot_n_times(lines, cycles[1])"
   ]
  },
  {
   "cell_type": "code",
   "execution_count": 287,
   "metadata": {},
   "outputs": [
    {
     "data": {
      "text/plain": [
       "22"
      ]
     },
     "execution_count": 287,
     "metadata": {},
     "output_type": "execute_result"
    }
   ],
   "source": [
    "(1_000_000_000) % cycles[1] - cycles[0]"
   ]
  },
  {
   "cell_type": "code",
   "execution_count": 288,
   "metadata": {},
   "outputs": [],
   "source": [
    "end_rot = slide_rot_n_times(start_rot,(1_000_000_000 - cycles[1] ) % cycles[0])"
   ]
  },
  {
   "cell_type": "code",
   "execution_count": 289,
   "metadata": {},
   "outputs": [],
   "source": [
    "depth = find_char(end_rot, 'O')"
   ]
  },
  {
   "cell_type": "code",
   "execution_count": 290,
   "metadata": {},
   "outputs": [],
   "source": [
    "lever = [len(end_rot) - i for i in depth]"
   ]
  },
  {
   "cell_type": "code",
   "execution_count": 291,
   "metadata": {},
   "outputs": [
    {
     "data": {
      "text/plain": [
       "102943"
      ]
     },
     "execution_count": 291,
     "metadata": {},
     "output_type": "execute_result"
    }
   ],
   "source": [
    "sum(lever)"
   ]
  },
  {
   "cell_type": "code",
   "execution_count": 292,
   "metadata": {},
   "outputs": [
    {
     "data": {
      "text/plain": [
       "(42, 83, 124)"
      ]
     },
     "execution_count": 292,
     "metadata": {},
     "output_type": "execute_result"
    }
   ],
   "source": [
    "cycles"
   ]
  }
 ],
 "metadata": {
  "kernelspec": {
   "display_name": "Python 3",
   "language": "python",
   "name": "python3"
  },
  "language_info": {
   "codemirror_mode": {
    "name": "ipython",
    "version": 3
   },
   "file_extension": ".py",
   "mimetype": "text/x-python",
   "name": "python",
   "nbconvert_exporter": "python",
   "pygments_lexer": "ipython3",
   "version": "3.11.0"
  }
 },
 "nbformat": 4,
 "nbformat_minor": 2
}
