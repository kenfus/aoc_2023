{
 "cells": [
  {
   "cell_type": "code",
   "execution_count": 86,
   "metadata": {},
   "outputs": [],
   "source": [
    "import numpy as np"
   ]
  },
  {
   "cell_type": "code",
   "execution_count": 87,
   "metadata": {},
   "outputs": [],
   "source": [
    "with open('input.txt') as f:\n",
    "    lines = f.readlines()"
   ]
  },
  {
   "cell_type": "code",
   "execution_count": 88,
   "metadata": {},
   "outputs": [],
   "source": [
    "# Split the list into sublists at empty lines and create a list of lists of characters\n",
    "split_lists = [[]]\n",
    "for line in lines:\n",
    "    if line.strip():\n",
    "        split_lists[-1].append([char for char in line.strip()])\n",
    "    else:\n",
    "        split_lists.append([])\n",
    "\n",
    "split_lists = [lst for lst in split_lists if lst]  # Removing empty lists if any"
   ]
  },
  {
   "cell_type": "code",
   "execution_count": 89,
   "metadata": {},
   "outputs": [],
   "source": [
    "patterns = []\n",
    "for lst in split_lists:\n",
    "    patterns.append(np.array(lst))"
   ]
  },
  {
   "cell_type": "code",
   "execution_count": 90,
   "metadata": {},
   "outputs": [],
   "source": [
    "test1 = np.array([['#', '.', '#'], ['.', '#', '.'], ['#', '.', '#']])\n",
    "test2 = np.array([['#', '.'], ['.', '#'], ['#', '.']])"
   ]
  },
  {
   "cell_type": "code",
   "execution_count": 91,
   "metadata": {},
   "outputs": [
    {
     "name": "stdout",
     "output_type": "stream",
     "text": [
      "[['#' '.' '#']\n",
      " ['.' '#' '.']\n",
      " ['#' '.' '#']]\n",
      "[['#' '.']\n",
      " ['.' '#']\n",
      " ['#' '.']]\n"
     ]
    }
   ],
   "source": [
    "print(test1)\n",
    "print(test2)"
   ]
  },
  {
   "cell_type": "code",
   "execution_count": 92,
   "metadata": {},
   "outputs": [
    {
     "data": {
      "text/plain": [
       "array([['#', '.'],\n",
       "       ['.', '#'],\n",
       "       ['#', '.']], dtype='<U1')"
      ]
     },
     "execution_count": 92,
     "metadata": {},
     "output_type": "execute_result"
    }
   ],
   "source": [
    "test2"
   ]
  },
  {
   "cell_type": "code",
   "execution_count": 93,
   "metadata": {},
   "outputs": [
    {
     "data": {
      "text/plain": [
       "array([['#', '.', '#'],\n",
       "       ['.', '#', '.']], dtype='<U1')"
      ]
     },
     "execution_count": 93,
     "metadata": {},
     "output_type": "execute_result"
    }
   ],
   "source": [
    "np.rot90(test2, -1)"
   ]
  },
  {
   "cell_type": "code",
   "execution_count": 94,
   "metadata": {},
   "outputs": [
    {
     "data": {
      "text/plain": [
       "True"
      ]
     },
     "execution_count": 94,
     "metadata": {},
     "output_type": "execute_result"
    }
   ],
   "source": [
    "are_arr_mirrors(test1, test2)"
   ]
  },
  {
   "cell_type": "code",
   "execution_count": 95,
   "metadata": {},
   "outputs": [],
   "source": [
    "def are_arr_mirrors(l, r):\n",
    "    # l | r | are_arr_mirrors\n",
    "    min_len = min(l.shape[1], r.shape[1])\n",
    "    l_l = l.shape[1]\n",
    "    r_l = r.shape[1]\n",
    "    r = np.fliplr(r)\n",
    "    l = l[:, l_l - min_len:]\n",
    "    r = r[:, r_l - min_len:]\n",
    "    return np.array_equal(l, r)"
   ]
  },
  {
   "cell_type": "code",
   "execution_count": 96,
   "metadata": {},
   "outputs": [],
   "source": [
    "mirror_h = []\n",
    "for arr in patterns:\n",
    "    for i in range(1, arr.shape[1]):\n",
    "        l, r = arr[:, :i], arr[:, i:]\n",
    "        if i == 4:\n",
    "            test1 = l\n",
    "            test2 = r\n",
    "        if are_arr_mirrors(l, r):\n",
    "            mirror_h.append(i)\n",
    "        else:\n",
    "            mirror_h.append(0)"
   ]
  },
  {
   "cell_type": "code",
   "execution_count": 97,
   "metadata": {},
   "outputs": [],
   "source": [
    "mirror_v = []\n",
    "for arr in patterns:\n",
    "    arr = arr.T\n",
    "    for i in range(1, arr.shape[1]):\n",
    "        l, r = arr[:, :i], arr[:, i:]\n",
    "        if are_arr_mirrors(l, r):\n",
    "            mirror_v.append(i)\n",
    "        else:\n",
    "            mirror_v.append(0)"
   ]
  },
  {
   "cell_type": "code",
   "execution_count": 98,
   "metadata": {},
   "outputs": [
    {
     "data": {
      "text/plain": [
       "35521"
      ]
     },
     "execution_count": 98,
     "metadata": {},
     "output_type": "execute_result"
    }
   ],
   "source": [
    "tot = sum(mirror_h) + 100*sum(mirror_v)\n",
    "tot"
   ]
  },
  {
   "cell_type": "code",
   "execution_count": null,
   "metadata": {},
   "outputs": [],
   "source": []
  }
 ],
 "metadata": {
  "kernelspec": {
   "display_name": "aoc_2023",
   "language": "python",
   "name": "python3"
  },
  "language_info": {
   "codemirror_mode": {
    "name": "ipython",
    "version": 3
   },
   "file_extension": ".py",
   "mimetype": "text/x-python",
   "name": "python",
   "nbconvert_exporter": "python",
   "pygments_lexer": "ipython3",
   "version": "3.11.0"
  }
 },
 "nbformat": 4,
 "nbformat_minor": 2
}
