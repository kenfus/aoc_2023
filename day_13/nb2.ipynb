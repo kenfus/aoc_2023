{
 "cells": [
  {
   "cell_type": "code",
   "execution_count": 8,
   "metadata": {},
   "outputs": [],
   "source": [
    "import numpy as np"
   ]
  },
  {
   "cell_type": "code",
   "execution_count": 9,
   "metadata": {},
   "outputs": [],
   "source": [
    "with open('input.txt') as f:\n",
    "    lines = f.readlines()"
   ]
  },
  {
   "cell_type": "code",
   "execution_count": 10,
   "metadata": {},
   "outputs": [],
   "source": [
    "# Split the list into sublists at empty lines and create a list of lists of characters\n",
    "split_lists = [[]]\n",
    "for line in lines:\n",
    "    if line.strip():\n",
    "        split_lists[-1].append([char for char in line.strip()])\n",
    "    else:\n",
    "        split_lists.append([])\n",
    "\n",
    "split_lists = [lst for lst in split_lists if lst]  # Removing empty lists if any"
   ]
  },
  {
   "cell_type": "code",
   "execution_count": 11,
   "metadata": {},
   "outputs": [],
   "source": [
    "patterns = []\n",
    "for lst in split_lists:\n",
    "    patterns.append(np.array(lst))"
   ]
  },
  {
   "cell_type": "code",
   "execution_count": 12,
   "metadata": {},
   "outputs": [],
   "source": [
    "def are_arr_mirrors(l, r):\n",
    "    # l | r | are_arr_mirrors\n",
    "    min_len = min(l.shape[1], r.shape[1])\n",
    "    l_l = l.shape[1]\n",
    "    r_l = r.shape[1]\n",
    "    r = np.fliplr(r)\n",
    "    l = l[:, l_l - min_len:]\n",
    "    r = r[:, r_l - min_len:]\n",
    "    return np.array_equal(l, r)"
   ]
  },
  {
   "cell_type": "code",
   "execution_count": 13,
   "metadata": {},
   "outputs": [],
   "source": [
    "def error_in_reflection(l, r):\n",
    "    min_len = min(l.shape[1], r.shape[1])\n",
    "    l_l = l.shape[1]\n",
    "    r_l = r.shape[1]\n",
    "    r = np.fliplr(r)\n",
    "    l = l[:, l_l - min_len:]\n",
    "    r = r[:, r_l - min_len:]\n",
    "    return np.sum(l != r)"
   ]
  },
  {
   "cell_type": "code",
   "execution_count": 14,
   "metadata": {},
   "outputs": [],
   "source": [
    "test1 = np.array([['#', '.', '#'], ['.', '#', '.'], ['#', '.', '#']])\n",
    "test2 = np.array([['#', '#'], ['.', '#'], ['#', '.']])"
   ]
  },
  {
   "cell_type": "code",
   "execution_count": 15,
   "metadata": {},
   "outputs": [
    {
     "data": {
      "text/plain": [
       "array([['#', '#'],\n",
       "       ['.', '#'],\n",
       "       ['#', '.']], dtype='<U1')"
      ]
     },
     "execution_count": 15,
     "metadata": {},
     "output_type": "execute_result"
    }
   ],
   "source": [
    "test2"
   ]
  },
  {
   "cell_type": "code",
   "execution_count": 16,
   "metadata": {},
   "outputs": [
    {
     "data": {
      "text/plain": [
       "1"
      ]
     },
     "execution_count": 16,
     "metadata": {},
     "output_type": "execute_result"
    }
   ],
   "source": [
    "error_in_reflection(test1, test2)"
   ]
  },
  {
   "cell_type": "code",
   "execution_count": null,
   "metadata": {},
   "outputs": [],
   "source": [
    "mirror_h = []\n",
    "for arr in patterns:\n",
    "    for i in range(1, arr.shape[1]):\n",
    "        l, r = arr[:, :i], arr[:, i:]\n",
    "        if error_in_reflection(l, r) == 1:\n",
    "            print(error_in_reflection(l, r))\n",
    "            mirror_h.append(i)\n",
    "        else:\n",
    "            mirror_h.append(0)"
   ]
  },
  {
   "cell_type": "code",
   "execution_count": 18,
   "metadata": {},
   "outputs": [],
   "source": [
    "mirror_v = []\n",
    "for arr in patterns:\n",
    "    arr = arr.T\n",
    "    for i in range(1, arr.shape[1]):\n",
    "        l, r = arr[:, :i], arr[:, i:]\n",
    "        if error_in_reflection(l, r) == 1:\n",
    "            mirror_v.append(i)\n",
    "        else:\n",
    "            mirror_v.append(0)"
   ]
  },
  {
   "cell_type": "code",
   "execution_count": 19,
   "metadata": {},
   "outputs": [
    {
     "data": {
      "text/plain": [
       "34795"
      ]
     },
     "execution_count": 19,
     "metadata": {},
     "output_type": "execute_result"
    }
   ],
   "source": [
    "tot = sum(mirror_h) + 100*sum(mirror_v)\n",
    "tot"
   ]
  },
  {
   "cell_type": "code",
   "execution_count": null,
   "metadata": {},
   "outputs": [],
   "source": []
  }
 ],
 "metadata": {
  "kernelspec": {
   "display_name": "aoc_2023",
   "language": "python",
   "name": "python3"
  },
  "language_info": {
   "codemirror_mode": {
    "name": "ipython",
    "version": 3
   },
   "file_extension": ".py",
   "mimetype": "text/x-python",
   "name": "python",
   "nbconvert_exporter": "python",
   "pygments_lexer": "ipython3",
   "version": "3.11.0"
  }
 },
 "nbformat": 4,
 "nbformat_minor": 2
}
