{
 "cells": [
  {
   "cell_type": "code",
   "execution_count": 2,
   "metadata": {
    "vscode": {
     "languageId": "rust"
    }
   },
   "outputs": [],
   "source": [
    "use std::error::Error;\n",
    "use std::fs::File;\n",
    "use std::io::{self, Read};\n",
    "use std::collections::HashMap;\n",
    "use std::cmp::{min, max}\n",
    "use std::collections::HashSet;"
   ]
  },
  {
   "cell_type": "code",
   "execution_count": 3,
   "metadata": {
    "vscode": {
     "languageId": "rust"
    }
   },
   "outputs": [],
   "source": [
    "fn read_in_local_file(path: &str) -> Result<String, Box<dyn Error>> {\n",
    "    let mut file = File::open(path)?;\n",
    "    let mut contents = String::new();\n",
    "    file.read_to_string(&mut contents)?;\n",
    "    Ok(contents)\n",
    "}"
   ]
  },
  {
   "cell_type": "code",
   "execution_count": 4,
   "metadata": {
    "vscode": {
     "languageId": "rust"
    }
   },
   "outputs": [],
   "source": [
    "let content_list = read_in_local_file(\"input.txt\").unwrap();"
   ]
  },
  {
   "cell_type": "code",
   "execution_count": null,
   "metadata": {
    "vscode": {
     "languageId": "rust"
    }
   },
   "outputs": [],
   "source": [
    "let number_of_lines = content_list.lines().count();\n",
    "\n",
    "let mut extra_cards_per_card: HashMap<i32, i32> = HashMap::with_capacity(number_of_lines);\n",
    "for line in content_list.lines() {\n",
    "    let card_id: i32 = line.split(\":\").nth(0).unwrap().split_whitespace().nth(1).unwrap().trim().parse().unwrap();\n",
    "    let my_cards_str = line.split(\":\").nth(1).unwrap().split(\"|\").nth(0).unwrap().trim();\n",
    "    let winning_cards_str = line.split(\":\").nth(1).unwrap().split(\"|\").nth(1).unwrap().trim();\n",
    "\n",
    "    let winning_cards: HashSet<i32> = winning_cards_str\n",
    "        .split_whitespace()\n",
    "        .map(|s| s.parse().unwrap())\n",
    "        .collect();\n",
    "    let my_cards: HashSet<i32> = my_cards_str\n",
    "        .split_whitespace()\n",
    "        .map(|s| s.parse().unwrap())\n",
    "        .collect();\n",
    "    let intersection: HashSet<i32> = winning_cards.intersection(&my_cards).cloned().collect();\n",
    "    let n_winning_cards = intersection.len() as i32;\n",
    "    let n_card_id: i32 = extra_cards_per_card.get(&card_id).unwrap_or(&0) + 1;\n",
    "\n",
    "    for i in card_id+1..card_id + n_winning_cards+1{\n",
    "        *extra_cards_per_card.entry(i).or_insert(0) += n_card_id;\n",
    "    }\n",
    "}"
   ]
  },
  {
   "cell_type": "code",
   "execution_count": 7,
   "metadata": {
    "vscode": {
     "languageId": "rust"
    }
   },
   "outputs": [
    {
     "data": {
      "text/plain": [
       "14814534"
      ]
     },
     "execution_count": 7,
     "metadata": {},
     "output_type": "execute_result"
    }
   ],
   "source": [
    "let mut total_scratch_cards: i32 = 0;\n",
    "for (key, value) in extra_cards_per_card.iter() {\n",
    "    total_scratch_cards +=value;\n",
    "}\n",
    "total_scratch_cards += number_of_lines as i32;\n",
    "total_scratch_cards"
   ]
  }
 ],
 "metadata": {
  "kernelspec": {
   "display_name": "Rust",
   "language": "rust",
   "name": "rust"
  },
  "language_info": {
   "codemirror_mode": "rust",
   "file_extension": ".rs",
   "mimetype": "text/rust",
   "name": "Rust",
   "pygment_lexer": "rust",
   "version": ""
  }
 },
 "nbformat": 4,
 "nbformat_minor": 2
}
