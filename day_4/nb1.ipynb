{
 "cells": [
  {
   "cell_type": "code",
   "execution_count": 6,
   "metadata": {},
   "outputs": [],
   "source": [
    "use std::error::Error;\n",
    "use std::fs::File;\n",
    "use std::io::{self, Read};\n",
    "use std::collections::HashMap;\n",
    "use std::cmp::{min, max}\n",
    "use std::collections::HashSet;"
   ]
  },
  {
   "cell_type": "code",
   "execution_count": 7,
   "metadata": {},
   "outputs": [],
   "source": [
    "fn read_in_local_file(path: &str) -> Result<String, Box<dyn Error>> {\n",
    "    let mut file = File::open(path)?;\n",
    "    let mut contents = String::new();\n",
    "    file.read_to_string(&mut contents)?;\n",
    "    Ok(contents)\n",
    "}"
   ]
  },
  {
   "cell_type": "code",
   "execution_count": 8,
   "metadata": {},
   "outputs": [],
   "source": [
    "let content_list = read_in_local_file(\"input.txt\").unwrap();"
   ]
  },
  {
   "cell_type": "code",
   "execution_count": 9,
   "metadata": {},
   "outputs": [],
   "source": [
    "fn has_symbol_around(row_id: usize, col_id: usize, content_list_mat: Vec<Vec<char>>) -> bool {\n",
    "    let num_rows = content_list_mat.len() as i32;\n",
    "    let num_cols = content_list_mat.get(0).map(|row| row.len()).unwrap() as i32;\n",
    "\n",
    "    for i in 0..3 {\n",
    "        for j in 0..3 {\n",
    "            let adjusted_i = (i as i32 - 1);\n",
    "            let adjusted_j = (j as i32 - 1);\n",
    "            let row_index = min(max(row_id as i32 + adjusted_i, 0), num_rows - 1) as usize;\n",
    "            let col_index = min(max(col_id as i32 + adjusted_j, 0), num_cols - 1) as usize;\n",
    "            let c = content_list_mat[row_index][col_index];\n",
    "            if c != '.' && !c.is_digit(10) {\n",
    "                return true\n",
    "            }\n",
    "        }\n",
    "    }\n",
    "    return false;\n",
    "}\n",
    "\n",
    "fn get_symbol_pos(row_id: usize, col_id: usize, content_list_mat: Vec<Vec<char>>) -> (usize, usize) {\n",
    "    let num_rows = content_list_mat.len() as i32;\n",
    "    let num_cols = content_list_mat.get(0).map(|row| row.len()).unwrap() as i32;\n",
    "\n",
    "    for i in 0..3 {\n",
    "        for j in 0..3 {\n",
    "            let adjusted_i = (i as i32 - 1);\n",
    "            let adjusted_j = (j as i32 - 1);\n",
    "            let row_index = min(max(row_id as i32 + adjusted_i, 0), num_rows - 1) as usize;\n",
    "            let col_index = min(max(col_id as i32 + adjusted_j, 0), num_cols - 1) as usize;\n",
    "            let c = content_list_mat[row_index][col_index];\n",
    "            if c != '.' && !c.is_digit(10) {\n",
    "                return (row_index, col_index)\n",
    "            }\n",
    "        }\n",
    "    }\n",
    "    return (0, 0)\n",
    "}\n",
    "    "
   ]
  },
  {
   "cell_type": "code",
   "execution_count": 17,
   "metadata": {},
   "outputs": [
    {
     "name": "stdout",
     "output_type": "stream",
     "text": [
      "33950\n"
     ]
    }
   ],
   "source": [
    "let mut sum_power = 0;\n",
    "let base_power:i32 = 2;\n",
    "for line in content_list.lines() {\n",
    "    let card_n: i32 = line.split(\":\").nth(0).unwrap().split_whitespace().nth(1).unwrap().trim().parse().unwrap();\n",
    "    let my_cards_str = line.split(\":\").nth(1).unwrap().split(\"|\").nth(0).unwrap().trim();\n",
    "    let winning_cards_str = line.split(\":\").nth(1).unwrap().split(\"|\").nth(1).unwrap().trim();\n",
    "\n",
    "    let winning_cards: HashSet<i32> = winning_cards_str\n",
    "        .split_whitespace()\n",
    "        .map(|s| s.parse().unwrap())\n",
    "        .collect();\n",
    "    let my_cards: HashSet<i32> = my_cards_str\n",
    "        .split_whitespace()\n",
    "        .map(|s| s.parse().unwrap())\n",
    "        .collect();\n",
    "    let intersection: HashSet<i32> = winning_cards.intersection(&my_cards).cloned().collect();\n",
    "    if intersection.len() > 0{    \n",
    "        sum_power += base_power.pow(intersection.len() as u32 - 1);\n",
    "    }\n",
    "}\n",
    "println!(\"{}\",  sum_power);\n"
   ]
  },
  {
   "cell_type": "code",
   "execution_count": null,
   "metadata": {},
   "outputs": [],
   "source": [
    "sum_power += base_power.pow(intersection.len() as u32);"
   ]
  },
  {
   "cell_type": "code",
   "execution_count": 65,
   "metadata": {},
   "outputs": [
    {
     "ename": "Error",
     "evalue": "cannot find value `winning_cards_str` in this scope",
     "output_type": "error",
     "traceback": [
      "\u001b[31m[E0425] Error:\u001b[0m cannot find value `winning_cards_str` in this scope",
      "   \u001b[38;5;246m╭\u001b[0m\u001b[38;5;246m─\u001b[0m\u001b[38;5;246m[\u001b[0mcommand_65:1:1\u001b[38;5;246m]\u001b[0m",
      "   \u001b[38;5;246m│\u001b[0m",
      " \u001b[38;5;246m1 │\u001b[0m \u001b[38;5;54mw\u001b[0m\u001b[38;5;54mi\u001b[0m\u001b[38;5;54mn\u001b[0m\u001b[38;5;54mn\u001b[0m\u001b[38;5;54mi\u001b[0m\u001b[38;5;54mn\u001b[0m\u001b[38;5;54mg\u001b[0m\u001b[38;5;54m_\u001b[0m\u001b[38;5;54mc\u001b[0m\u001b[38;5;54ma\u001b[0m\u001b[38;5;54mr\u001b[0m\u001b[38;5;54md\u001b[0m\u001b[38;5;54ms\u001b[0m\u001b[38;5;54m_\u001b[0m\u001b[38;5;54ms\u001b[0m\u001b[38;5;54mt\u001b[0m\u001b[38;5;54mr\u001b[0m",
      " \u001b[38;5;240m  │\u001b[0m \u001b[38;5;54m─\u001b[0m\u001b[38;5;54m─\u001b[0m\u001b[38;5;54m─\u001b[0m\u001b[38;5;54m─\u001b[0m\u001b[38;5;54m─\u001b[0m\u001b[38;5;54m─\u001b[0m\u001b[38;5;54m─\u001b[0m\u001b[38;5;54m─\u001b[0m\u001b[38;5;54m┬\u001b[0m\u001b[38;5;54m─\u001b[0m\u001b[38;5;54m─\u001b[0m\u001b[38;5;54m─\u001b[0m\u001b[38;5;54m─\u001b[0m\u001b[38;5;54m─\u001b[0m\u001b[38;5;54m─\u001b[0m\u001b[38;5;54m─\u001b[0m\u001b[38;5;54m─\u001b[0m  ",
      " \u001b[38;5;240m  │\u001b[0m         \u001b[38;5;54m╰\u001b[0m\u001b[38;5;54m─\u001b[0m\u001b[38;5;54m─\u001b[0m\u001b[38;5;54m─\u001b[0m\u001b[38;5;54m─\u001b[0m\u001b[38;5;54m─\u001b[0m\u001b[38;5;54m─\u001b[0m\u001b[38;5;54m─\u001b[0m\u001b[38;5;54m─\u001b[0m\u001b[38;5;54m─\u001b[0m\u001b[38;5;54m─\u001b[0m not found in this scope",
      "\u001b[38;5;246m───╯\u001b[0m"
     ]
    },
    {
     "ename": "Error",
     "evalue": "unnecessary parentheses around assigned value",
     "output_type": "error",
     "traceback": [
      "\u001b[31m[unused_parens] Error:\u001b[0m unnecessary parentheses around assigned value"
     ]
    },
    {
     "ename": "Error",
     "evalue": "unnecessary parentheses around assigned value",
     "output_type": "error",
     "traceback": [
      "\u001b[31m[unused_parens] Error:\u001b[0m unnecessary parentheses around assigned value"
     ]
    },
    {
     "ename": "Error",
     "evalue": "unnecessary parentheses around assigned value",
     "output_type": "error",
     "traceback": [
      "\u001b[31m[unused_parens] Error:\u001b[0m unnecessary parentheses around assigned value"
     ]
    },
    {
     "ename": "Error",
     "evalue": "unnecessary parentheses around assigned value",
     "output_type": "error",
     "traceback": [
      "\u001b[31m[unused_parens] Error:\u001b[0m unnecessary parentheses around assigned value"
     ]
    }
   ],
   "source": [
    "winning_cards_str"
   ]
  }
 ],
 "metadata": {
  "kernelspec": {
   "display_name": "Rust",
   "language": "rust",
   "name": "rust"
  },
  "language_info": {
   "codemirror_mode": "rust",
   "file_extension": ".rs",
   "mimetype": "text/rust",
   "name": "rust",
   "pygment_lexer": "rust",
   "version": ""
  }
 },
 "nbformat": 4,
 "nbformat_minor": 2
}
