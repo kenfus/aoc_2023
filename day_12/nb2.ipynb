{
 "cells": [
  {
   "cell_type": "code",
   "execution_count": 94,
   "metadata": {},
   "outputs": [],
   "source": [
    "with open('input.txt') as f:\n",
    "    lines = f.readlines()"
   ]
  },
  {
   "cell_type": "code",
   "execution_count": 95,
   "metadata": {},
   "outputs": [],
   "source": [
    "def is_valid(s):\n",
    "    if '@#' in s or '#@' in s:\n",
    "        return False\n",
    "    first_at = s.rfind('@')\n",
    "    for i in range(first_at):\n",
    "        if s[i] == '#':\n",
    "            return False\n",
    "    else:\n",
    "        return True"
   ]
  },
  {
   "cell_type": "code",
   "execution_count": 96,
   "metadata": {},
   "outputs": [],
   "source": [
    "def place_substring(s, length):\n",
    "    pos = []\n",
    "    for i in range(len(s) - length+1):\n",
    "        str_overwritten = s[i:i+length]\n",
    "        if '.' in str_overwritten or '@' in str_overwritten:\n",
    "            continue\n",
    "        cur_str = s[:i] + length * '@' + s[i+length:]\n",
    "        if is_valid(cur_str):\n",
    "            # Replace the chars with '.'\n",
    "            cur_str = cur_str.replace('@?', '@.').replace('?@', '.@')\n",
    "            # Replace all ? left of the first @ with .\n",
    "            first_new_at = i\n",
    "            for j in range(first_new_at):\n",
    "                if cur_str[j] == '?':\n",
    "                    cur_str = cur_str[:j] + '.' + cur_str[j+1:]\n",
    "            pos.append(cur_str)\n",
    "    return pos"
   ]
  },
  {
   "cell_type": "code",
   "execution_count": 97,
   "metadata": {},
   "outputs": [],
   "source": [
    "def get_all_pos(s, lengths, total_l):\n",
    "    if s.count('#') == 0 and s.count('@') == total_l:\n",
    "        return 1\n",
    "    if len(lengths) == 0:\n",
    "        return 0\n",
    "    else:\n",
    "        lengths_copy = lengths.copy()\n",
    "        next_poss = place_substring(s, lengths_copy.pop(0))\n",
    "        total = 0\n",
    "        for pos in next_poss:\n",
    "            # Check first if it could even be a solution:\n",
    "            if pos.count('#') > total_l:\n",
    "                continue\n",
    "            else:\n",
    "                total += get_all_pos(pos, lengths_copy, total_l)\n",
    "        return total\n",
    "        \n"
   ]
  },
  {
   "cell_type": "code",
   "execution_count": 98,
   "metadata": {},
   "outputs": [],
   "source": [
    "examples = []\n",
    "for line in lines:\n",
    "    example = line.strip().split(' ')\n",
    "    example[0] = \"?\".join([example[0] for _ in range(5)])\n",
    "    example[1] = \",\".join([example[1] for _ in range(5)])             \n",
    "    example[1] = [int(x) for x in example[1].split(',')]\n",
    "    examples.append(example)"
   ]
  },
  {
   "cell_type": "code",
   "execution_count": 99,
   "metadata": {},
   "outputs": [],
   "source": [
    "#?#???????#?.? 3,1,2,2"
   ]
  },
  {
   "cell_type": "code",
   "execution_count": 100,
   "metadata": {},
   "outputs": [],
   "source": [
    "def process_example(example):\n",
    "    return get_all_pos(example[0], example[1], sum(example[1]))"
   ]
  },
  {
   "cell_type": "code",
   "execution_count": 101,
   "metadata": {},
   "outputs": [
    {
     "data": {
      "text/plain": [
       "['#?#???????#?.??#?#???????#?.??#?#???????#?.??#?#???????#?.??#?#???????#?.?',\n",
       " [3, 1, 2, 2, 3, 1, 2, 2, 3, 1, 2, 2, 3, 1, 2, 2, 3, 1, 2, 2]]"
      ]
     },
     "execution_count": 101,
     "metadata": {},
     "output_type": "execute_result"
    }
   ],
   "source": [
    "examples[0]"
   ]
  },
  {
   "cell_type": "code",
   "execution_count": 102,
   "metadata": {},
   "outputs": [
    {
     "data": {
      "text/plain": [
       "58564"
      ]
     },
     "execution_count": 102,
     "metadata": {},
     "output_type": "execute_result"
    }
   ],
   "source": [
    "process_example(examples[0])"
   ]
  },
  {
   "cell_type": "code",
   "execution_count": 83,
   "metadata": {},
   "outputs": [
    {
     "name": "stderr",
     "output_type": "stream",
     "text": [
      "100%|██████████| 1000/1000 [00:00<00:00, 8783.22it/s]\n"
     ]
    }
   ],
   "source": [
    "from tqdm import tqdm\n",
    "from multiprocessing import Pool\n",
    "import os\n",
    "\n",
    "\n",
    "\n",
    "# Assuming 'examples' is a list of tuples\n",
    "with Pool(os.cpu_count()) as pool:\n",
    "    results = list(tqdm(pool.imap(process_example, examples), total=len(examples)))\n",
    "\n",
    "total = sum(results)\n"
   ]
  },
  {
   "cell_type": "code",
   "execution_count": 84,
   "metadata": {},
   "outputs": [
    {
     "data": {
      "text/plain": [
       "7007"
      ]
     },
     "execution_count": 84,
     "metadata": {},
     "output_type": "execute_result"
    }
   ],
   "source": [
    "total"
   ]
  }
 ],
 "metadata": {
  "kernelspec": {
   "display_name": "aoc_2023",
   "language": "python",
   "name": "python3"
  },
  "language_info": {
   "codemirror_mode": {
    "name": "ipython",
    "version": 3
   },
   "file_extension": ".py",
   "mimetype": "text/x-python",
   "name": "python",
   "nbconvert_exporter": "python",
   "pygments_lexer": "ipython3",
   "version": "3.11.0"
  }
 },
 "nbformat": 4,
 "nbformat_minor": 2
}
