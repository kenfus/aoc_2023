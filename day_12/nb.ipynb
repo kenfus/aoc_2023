{
 "cells": [
  {
   "cell_type": "code",
   "execution_count": 268,
   "metadata": {},
   "outputs": [],
   "source": [
    "with open('input.txt') as f:\n",
    "    lines = f.readlines()"
   ]
  },
  {
   "cell_type": "code",
   "execution_count": 269,
   "metadata": {},
   "outputs": [],
   "source": [
    "def return_possible_combinations(length_n, str2):\n",
    "    possibilities = []\n",
    "    replacement_str = '@' * length_n\n",
    "    number_ats = str2.count('@') + replacement_str.count('@')\n",
    "\n",
    "    # Loop through the positions where '##' can fit into '###'\n",
    "    for i in range(len(str2) - len(replacement_str) + 1):\n",
    "        # Insert '##' into '###'\n",
    "        new_str = str2[:i] + replacement_str + str2[i+len(replacement_str):]\n",
    "\n",
    "        # Check and replace '#' with '.' if it's adjacent to '@'\n",
    "        if i > 0 and new_str[i-1] == '@':\n",
    "            new_str = new_str[:i-1] + '.' + new_str[i:]\n",
    "        if i+len(replacement_str) < len(new_str) and new_str[i+len(replacement_str)] == '@':\n",
    "            new_str = new_str[:i+len(replacement_str)] + '.' + new_str[i+len(replacement_str)+1:]\n",
    "\n",
    "        # Add . after @\n",
    "        new_str = [x for x in new_str]\n",
    "        for i in range(1, len(new_str)):\n",
    "            if new_str[i] in ['?'] and new_str[i-1] == '@':\n",
    "                new_str[i] = '.'\n",
    "\n",
    "        # Reverse\n",
    "        new_str = new_str[::-1]\n",
    "        for i in range(1, len(new_str)):\n",
    "            if new_str[i] in ['?'] and new_str[i-1] == '@':\n",
    "                new_str[i] = '.'\n",
    "        new_str = new_str[::-1]\n",
    "\n",
    "        # Check if the number of @ is correct\n",
    "        if new_str.count('@') != number_ats:\n",
    "            continue\n",
    "\n",
    "        possibilities.append(''.join(new_str))\n",
    "\n",
    "    return possibilities\n"
   ]
  },
  {
   "cell_type": "code",
   "execution_count": 270,
   "metadata": {},
   "outputs": [
    {
     "data": {
      "text/plain": [
       "5"
      ]
     },
     "execution_count": 270,
     "metadata": {},
     "output_type": "execute_result"
    }
   ],
   "source": [
    "'#####@@@@'.find('@@')"
   ]
  },
  {
   "cell_type": "code",
   "execution_count": 271,
   "metadata": {},
   "outputs": [],
   "source": [
    "def get_all_possibilities(example, all_poss, springs):\n",
    "    if len(example[1]) == 0 and example[0].count('#') == 0 and example[0].count('@') == sum(springs):\n",
    "        if example[0] not in all_poss:\n",
    "            if order_is_correct(example[0], springs) :\n",
    "                all_poss.append(example[0])\n",
    "    \n",
    "    for i, s_length in enumerate(example[1]):\n",
    "        for j, state in enumerate(example[0].split('.')):\n",
    "            possibilities = return_possible_combinations(s_length, state)\n",
    "            for possibility in possibilities:\n",
    "                state_new = example[0].split('.')\n",
    "                state_new.pop(j)\n",
    "                state_new.insert(j, possibility)\n",
    "                state_new = '.'.join(state_new)\n",
    "                get_all_possibilities([state_new, example[1][i+1:]], all_poss, springs)\n",
    "    return all_poss\n",
    "\n",
    "def order_is_correct(string, pattern):\n",
    "    pattern_idx = 0  # Index for the pattern list\n",
    "    count = 0  # Count of consecutive '@'\n",
    "\n",
    "    for char in string:\n",
    "        if char == '@':\n",
    "            count += 1\n",
    "            # If count exceeds the current pattern, return False\n",
    "            if pattern_idx < len(pattern) and count > pattern[pattern_idx]:\n",
    "                return False\n",
    "        else:\n",
    "            if count > 0:\n",
    "                # If the count doesn't match the pattern, return False\n",
    "                if pattern_idx < len(pattern) and count != pattern[pattern_idx]:\n",
    "                    return False\n",
    "                count = 0\n",
    "                pattern_idx += 1\n",
    "\n",
    "    # Check for the last group of '@'\n",
    "    if count > 0:\n",
    "        if pattern_idx < len(pattern) and count != pattern[pattern_idx]:\n",
    "            return False\n",
    "        pattern_idx += 1\n",
    "\n",
    "    # Check if all pattern elements were used\n",
    "    return pattern_idx == len(pattern)\n"
   ]
  },
  {
   "cell_type": "code",
   "execution_count": 272,
   "metadata": {},
   "outputs": [],
   "source": [
    "example = \"?###???????? 3,2,1\".split(' ')\n",
    "example[1] = sorted([int(x) for x in example[1].split(',')], reverse=True)"
   ]
  },
  {
   "cell_type": "code",
   "execution_count": 273,
   "metadata": {},
   "outputs": [],
   "source": [
    "examples = []\n",
    "for line in lines:\n",
    "    example = line.strip().split(' ')\n",
    "    example[1] = [int(x) for x in example[1].split(',')]\n",
    "    examples.append(example)\n"
   ]
  },
  {
   "cell_type": "code",
   "execution_count": 277,
   "metadata": {},
   "outputs": [],
   "source": [
    "from tqdm import tqdm"
   ]
  },
  {
   "cell_type": "code",
   "execution_count": 278,
   "metadata": {},
   "outputs": [
    {
     "name": "stderr",
     "output_type": "stream",
     "text": [
      "100%|██████████| 1000/1000 [02:52<00:00,  5.80it/s]\n"
     ]
    }
   ],
   "source": [
    "total_pos = 0\n",
    "for example in tqdm(examples):\n",
    "    all_poss = []\n",
    "    pos = get_all_possibilities(example, all_poss, springs = example[1])\n",
    "    total_pos += len(pos)"
   ]
  },
  {
   "cell_type": "code",
   "execution_count": 279,
   "metadata": {},
   "outputs": [
    {
     "data": {
      "text/plain": [
       "7007"
      ]
     },
     "execution_count": 279,
     "metadata": {},
     "output_type": "execute_result"
    }
   ],
   "source": [
    "total_pos"
   ]
  }
 ],
 "metadata": {
  "kernelspec": {
   "display_name": "aoc_2023",
   "language": "python",
   "name": "python3"
  },
  "language_info": {
   "codemirror_mode": {
    "name": "ipython",
    "version": 3
   },
   "file_extension": ".py",
   "mimetype": "text/x-python",
   "name": "python",
   "nbconvert_exporter": "python",
   "pygments_lexer": "ipython3",
   "version": "3.11.0"
  }
 },
 "nbformat": 4,
 "nbformat_minor": 2
}
