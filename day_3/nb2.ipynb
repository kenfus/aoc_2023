{
 "cells": [
  {
   "cell_type": "code",
   "execution_count": 6,
   "metadata": {
    "vscode": {
     "languageId": "rust"
    }
   },
   "outputs": [],
   "source": [
    "use std::error::Error;\n",
    "use std::fs::File;\n",
    "use std::io::{self, Read};\n",
    "use std::collections::HashMap;\n",
    "use std::cmp::{min, max}\n",
    "use std::collections::HashMap;"
   ]
  },
  {
   "cell_type": "code",
   "execution_count": 44,
   "metadata": {
    "vscode": {
     "languageId": "rust"
    }
   },
   "outputs": [],
   "source": [
    "fn read_in_local_file(path: &str) -> Result<String, Box<dyn Error>> {\n",
    "    let mut file = File::open(path)?;\n",
    "    let mut contents = String::new();\n",
    "    file.read_to_string(&mut contents)?;\n",
    "    Ok(contents)\n",
    "}"
   ]
  },
  {
   "cell_type": "code",
   "execution_count": 45,
   "metadata": {
    "vscode": {
     "languageId": "rust"
    }
   },
   "outputs": [],
   "source": [
    "let content_list = read_in_local_file(\"input.txt\").unwrap();\n",
    "let mut content_list_mat: Vec<Vec<char>> = content_list\n",
    ".lines()\n",
    ".map(|line| line.chars().collect())\n",
    ".collect();\n",
    "\n",
    "let num_rows = content_list_mat.len();\n",
    "let num_cols = content_list_mat.get(0).map(|row| row.len()).unwrap();"
   ]
  },
  {
   "cell_type": "code",
   "execution_count": 46,
   "metadata": {
    "vscode": {
     "languageId": "rust"
    }
   },
   "outputs": [
    {
     "data": {
      "text/plain": [
       "140"
      ]
     },
     "execution_count": 46,
     "metadata": {},
     "output_type": "execute_result"
    }
   ],
   "source": [
    "num_cols"
   ]
  },
  {
   "cell_type": "code",
   "execution_count": 47,
   "metadata": {
    "vscode": {
     "languageId": "rust"
    }
   },
   "outputs": [],
   "source": [
    "fn has_symbol_around(row_id: usize, col_id: usize, content_list_mat: Vec<Vec<char>>) -> bool {\n",
    "    let num_rows = content_list_mat.len() as i32;\n",
    "    let num_cols = content_list_mat.get(0).map(|row| row.len()).unwrap() as i32;\n",
    "\n",
    "    for i in 0..3 {\n",
    "        for j in 0..3 {\n",
    "            let adjusted_i = (i as i32 - 1);\n",
    "            let adjusted_j = (j as i32 - 1);\n",
    "            let row_index = min(max(row_id as i32 + adjusted_i, 0), num_rows - 1) as usize;\n",
    "            let col_index = min(max(col_id as i32 + adjusted_j, 0), num_cols - 1) as usize;\n",
    "            let c = content_list_mat[row_index][col_index];\n",
    "            if c != '.' && !c.is_digit(10) {\n",
    "                return true\n",
    "            }\n",
    "        }\n",
    "    }\n",
    "    return false;\n",
    "}\n",
    "\n",
    "fn get_symbol_pos(row_id: usize, col_id: usize, content_list_mat: Vec<Vec<char>>) -> (usize, usize) {\n",
    "    let num_rows = content_list_mat.len() as i32;\n",
    "    let num_cols = content_list_mat.get(0).map(|row| row.len()).unwrap() as i32;\n",
    "\n",
    "    for i in 0..3 {\n",
    "        for j in 0..3 {\n",
    "            let adjusted_i = (i as i32 - 1);\n",
    "            let adjusted_j = (j as i32 - 1);\n",
    "            let row_index = min(max(row_id as i32 + adjusted_i, 0), num_rows - 1) as usize;\n",
    "            let col_index = min(max(col_id as i32 + adjusted_j, 0), num_cols - 1) as usize;\n",
    "            let c = content_list_mat[row_index][col_index];\n",
    "            if c != '.' && !c.is_digit(10) {\n",
    "                return (row_index, col_index)\n",
    "            }\n",
    "        }\n",
    "    }\n",
    "    return (0, 0)\n",
    "}\n",
    "    "
   ]
  },
  {
   "cell_type": "code",
   "execution_count": 53,
   "metadata": {
    "vscode": {
     "languageId": "rust"
    }
   },
   "outputs": [
    {
     "data": {
      "text/plain": [
       "89471771"
      ]
     },
     "execution_count": 53,
     "metadata": {},
     "output_type": "execute_result"
    }
   ],
   "source": [
    "let mut sum = 0;\n",
    "let mut had_symbol_around = false;\n",
    "let mut int_chars = Vec::new();\n",
    "let mut gear_chars: HashMap<(usize, usize), i32> = HashMap::new();\n",
    "let mut gear_row_index = 0;\n",
    "let mut gear_col_index = 0;\n",
    "for row_id in 0..num_rows{\n",
    "    for col_id in 0..num_cols{\n",
    "        let c = content_list_mat[row_id][col_id];\n",
    "        if c.is_digit(10){\n",
    "            int_chars.push(c);\n",
    "            if has_symbol_around(row_id, col_id, content_list_mat.clone()) && !had_symbol_around{\n",
    "                had_symbol_around = true;\n",
    "                let (row, col) = get_symbol_pos(row_id, col_id, content_list_mat.clone());\n",
    "                gear_row_index = row;\n",
    "                gear_col_index = col;\n",
    "            }\n",
    "        }\n",
    "        else\n",
    "        {\n",
    "            if had_symbol_around && !int_chars.is_empty(){\n",
    "                let num_str: String = int_chars.iter().collect();\n",
    "                let num = num_str.parse::<i32>().expect(\"Failed to parse integer\");\n",
    "                if let Some(&gear_value) = gear_chars.get(&(gear_row_index, gear_col_index)){\n",
    "                    sum += gear_value * num\n",
    "                }\n",
    "                else{\n",
    "                    gear_chars.insert((gear_row_index, gear_col_index), num);\n",
    "                }\n",
    "            }\n",
    "            had_symbol_around = false;\n",
    "            int_chars.clear()\n",
    "        }\n",
    "    }\n",
    "    if had_symbol_around && !int_chars.is_empty(){\n",
    "        let num_str: String = int_chars.iter().collect();\n",
    "        let num = num_str.parse::<i32>().expect(\"Failed to parse integer\");\n",
    "        if let Some(&gear_value) = gear_chars.get(&(gear_row_index, gear_col_index)){\n",
    "            sum += gear_value * num\n",
    "        }\n",
    "        else{\n",
    "            gear_chars.insert((gear_row_index, gear_col_index), num);\n",
    "        }\n",
    "    }\n",
    "    had_symbol_around = false;\n",
    "    int_chars.clear()\n",
    "}\n",
    "sum\n"
   ]
  }
 ],
 "metadata": {
  "kernelspec": {
   "display_name": "Rust",
   "language": "rust",
   "name": "rust"
  },
  "language_info": {
   "codemirror_mode": "rust",
   "file_extension": ".rs",
   "mimetype": "text/rust",
   "name": "Rust",
   "pygment_lexer": "rust",
   "version": ""
  }
 },
 "nbformat": 4,
 "nbformat_minor": 2
}
